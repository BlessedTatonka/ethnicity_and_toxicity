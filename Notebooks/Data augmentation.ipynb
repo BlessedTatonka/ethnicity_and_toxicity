{
 "cells": [
  {
   "cell_type": "code",
   "execution_count": 1,
   "id": "5c2d6a05",
   "metadata": {},
   "outputs": [],
   "source": [
    "import pandas as pd\n",
    "import numpy as np"
   ]
  },
  {
   "cell_type": "code",
   "execution_count": 20,
   "id": "8aced4e8",
   "metadata": {
    "scrolled": true
   },
   "outputs": [
    {
     "data": {
      "text/html": [
       "<div>\n",
       "<style scoped>\n",
       "    .dataframe tbody tr th:only-of-type {\n",
       "        vertical-align: middle;\n",
       "    }\n",
       "\n",
       "    .dataframe tbody tr th {\n",
       "        vertical-align: top;\n",
       "    }\n",
       "\n",
       "    .dataframe thead th {\n",
       "        text-align: right;\n",
       "    }\n",
       "</style>\n",
       "<table border=\"1\" class=\"dataframe\">\n",
       "  <thead>\n",
       "    <tr style=\"text-align: right;\">\n",
       "      <th></th>\n",
       "      <th>Unnamed: 0</th>\n",
       "      <th>document.id</th>\n",
       "      <th>source_text</th>\n",
       "      <th>is_ethicity_superior_meaning</th>\n",
       "      <th>is_ethicity_aggressor_meaning</th>\n",
       "      <th>is_ethicity_dangerous_meaning</th>\n",
       "      <th>eth_group_to_code</th>\n",
       "    </tr>\n",
       "  </thead>\n",
       "  <tbody>\n",
       "    <tr>\n",
       "      <th>18280</th>\n",
       "      <td>42142</td>\n",
       "      <td>825904331</td>\n",
       "      <td>эрзя Ну в принципе про это историческое взаимо...</td>\n",
       "      <td>irrel</td>\n",
       "      <td>irrel</td>\n",
       "      <td>no</td>\n",
       "      <td>эрзя</td>\n",
       "    </tr>\n",
       "    <tr>\n",
       "      <th>24760</th>\n",
       "      <td>54726</td>\n",
       "      <td>749145544</td>\n",
       "      <td>русский [[id13050634|Александр], вот, тут и пр...</td>\n",
       "      <td>irrel</td>\n",
       "      <td>irrel</td>\n",
       "      <td>no</td>\n",
       "      <td>русский</td>\n",
       "    </tr>\n",
       "    <tr>\n",
       "      <th>27462</th>\n",
       "      <td>59412</td>\n",
       "      <td>784365431</td>\n",
       "      <td>великоросс обращаем ваше внимание на то, что в...</td>\n",
       "      <td>irrel</td>\n",
       "      <td>victim</td>\n",
       "      <td>no</td>\n",
       "      <td>великоросс</td>\n",
       "    </tr>\n",
       "    <tr>\n",
       "      <th>18211</th>\n",
       "      <td>41936</td>\n",
       "      <td>706894414</td>\n",
       "      <td>эвенк Вчера состоялись первые чтения на подушк...</td>\n",
       "      <td>irrel</td>\n",
       "      <td>irrel</td>\n",
       "      <td>no</td>\n",
       "      <td>эвенк</td>\n",
       "    </tr>\n",
       "    <tr>\n",
       "      <th>19537</th>\n",
       "      <td>45133</td>\n",
       "      <td>447362891</td>\n",
       "      <td>россиянин По мировоззрению этот Волынко типичн...</td>\n",
       "      <td>irrel</td>\n",
       "      <td>agressor</td>\n",
       "      <td>yes</td>\n",
       "      <td>россиянин</td>\n",
       "    </tr>\n",
       "  </tbody>\n",
       "</table>\n",
       "</div>"
      ],
      "text/plain": [
       "       Unnamed: 0  document.id  \\\n",
       "18280       42142    825904331   \n",
       "24760       54726    749145544   \n",
       "27462       59412    784365431   \n",
       "18211       41936    706894414   \n",
       "19537       45133    447362891   \n",
       "\n",
       "                                             source_text  \\\n",
       "18280  эрзя Ну в принципе про это историческое взаимо...   \n",
       "24760  русский [[id13050634|Александр], вот, тут и пр...   \n",
       "27462  великоросс обращаем ваше внимание на то, что в...   \n",
       "18211  эвенк Вчера состоялись первые чтения на подушк...   \n",
       "19537  россиянин По мировоззрению этот Волынко типичн...   \n",
       "\n",
       "      is_ethicity_superior_meaning is_ethicity_aggressor_meaning  \\\n",
       "18280                        irrel                         irrel   \n",
       "24760                        irrel                         irrel   \n",
       "27462                        irrel                        victim   \n",
       "18211                        irrel                         irrel   \n",
       "19537                        irrel                      agressor   \n",
       "\n",
       "      is_ethicity_dangerous_meaning eth_group_to_code  \n",
       "18280                            no              эрзя  \n",
       "24760                            no           русский  \n",
       "27462                            no        великоросс  \n",
       "18211                            no             эвенк  \n",
       "19537                           yes         россиянин  "
      ]
     },
     "execution_count": 20,
     "metadata": {},
     "output_type": "execute_result"
    }
   ],
   "source": [
    "data = pd.read_csv('data/is_ethicity_superior_meaning|is_ethicity_aggressor_meaning|is_ethicity_dangerous_meaning_eth_group_source_text.csv')\n",
    "data.sample(5)"
   ]
  },
  {
   "cell_type": "code",
   "execution_count": 94,
   "id": "71930a15",
   "metadata": {},
   "outputs": [
    {
     "data": {
      "text/plain": [
       "'грузин [[id178370173|Mia], но у вас же бред написан. Какими русскими? Вообще то там грузины воевали с <b>Абхазами</b>. <br/> Это исторический факт. <br/> А статья может быть на 10% правдива. Почему вы верите, какой-то статье?'"
      ]
     },
     "execution_count": 94,
     "metadata": {},
     "output_type": "execute_result"
    }
   ],
   "source": [
    "sample = data['source_text'].loc[0]\n",
    "sample"
   ]
  },
  {
   "cell_type": "code",
   "execution_count": 102,
   "id": "b98e9b52",
   "metadata": {},
   "outputs": [
    {
     "data": {
      "text/plain": [
       "['С [ [ id178370173 | грузин ], почему у вас же бред написан. Какими русскими? Вообще то же грузины воевали с < b > Абхазами < / b >. < br / > Настоящий исторический факт. < br / > А статья может быть для 90 % опубликована. Почему вы начали, какой - то сценарий?']"
      ]
     },
     "execution_count": 102,
     "metadata": {},
     "output_type": "execute_result"
    }
   ],
   "source": [
    "aug = nlpaug.augmenter.word.context_word_embs.ContextualWordEmbsAug(\n",
    "    model_path='rubert-base-cased/', aug_p=0.2)\n",
    "augmented_texts = aug.augment(sample, n=1)\n",
    "augmented_texts"
   ]
  },
  {
   "cell_type": "code",
   "execution_count": 82,
   "id": "e6e65e30",
   "metadata": {
    "scrolled": true
   },
   "outputs": [
    {
     "name": "stdout",
     "output_type": "stream",
     "text": [
      "--------------------\n",
      "Original Input:абхаз [[id178370173|Mia], но у вас же бред написан. Какими русскими? Вообще то там грузины воевали с <b>Абхазами</b>. <br/> Это исторический факт. <br/> А статья может быть на 10% правдива. Почему вы верите, какой-то статье?\n",
      "Agumented Output:['абхаз id178370173 ВЕРЕ но вас обращение бред написан Какими русскими Вообще то там грузины воевали Абхазами воспитательница Это Нікола факт id80443873 коммунальные может услышит на 10 gJbOzDrWpHE Почему очен верите годослов то статье']\n"
     ]
    }
   ],
   "source": [
    "# import sklearn.datasets\n",
    "# import re\n",
    "\n",
    "# import nlpaug.augmenter.word as naw\n",
    "# import nlpaug.model.word_stats as nmw\n",
    "\n",
    "# def _tokenizer(text, token_pattern=r\"(?u)\\b\\w\\w+\\b\"):\n",
    "#     token_pattern = re.compile(token_pattern)\n",
    "#     return token_pattern.findall(text)\n",
    "\n",
    "# # Load sample data\n",
    "# # train_data = sklearn.datasets.fetch_20newsgroups(subset='train', remove=('headers', 'footers', 'quotes'))\n",
    "# # train_x = train_data.data\n",
    "# train_x = data['source_text']\n",
    "\n",
    "# # Tokenize input\n",
    "# train_x_tokens = [_tokenizer(x) for x in train_x]\n",
    "\n",
    "# # Train TF-IDF model\n",
    "# tfidf_model = nmw.TfIdf()\n",
    "# tfidf_model.train(train_x_tokens)\n",
    "# tfidf_model.save('.')\n",
    "\n",
    "# # Load TF-IDF augmenter\n",
    "# aug = naw.TfIdfAug(model_path='.', tokenizer=_tokenizer)\n",
    "\n",
    "# texts = [\n",
    "#     data['source_text'].iloc[1]\n",
    "# ]\n",
    "\n",
    "# for text in texts:\n",
    "#     augmented_text = aug.augment(text)\n",
    "    \n",
    "#     print('-'*20)\n",
    "#     print('Original Input:{}'.format(text))\n",
    "#     print('Agumented Output:{}'.format(augmented_text))"
   ]
  },
  {
   "cell_type": "code",
   "execution_count": 52,
   "id": "eba70a40",
   "metadata": {},
   "outputs": [],
   "source": [
    "from navec import Navec\n",
    "\n",
    "path = 'navec_hudlit_v1_12B_500K_300d_100q.tar'\n",
    "navec = Navec.load(path)"
   ]
  },
  {
   "cell_type": "code",
   "execution_count": 53,
   "id": "4928be21",
   "metadata": {
    "scrolled": true
   },
   "outputs": [
    {
     "data": {
      "text/plain": [
       "array([ 0.3955571 ,  0.11600914,  0.24605067, -0.35206917, -0.08932345,\n",
       "        0.3382279 , -0.5457616 ,  0.07472657, -0.4753835 , -0.3330848 ,\n",
       "        0.1449912 , -0.13690177,  0.0840969 , -0.2141802 , -0.57312167,\n",
       "       -0.06113251,  0.04558022, -0.30147526,  0.55966735, -0.30724582,\n",
       "       -0.23867525, -0.28796813, -0.10781458,  0.09957517,  0.25810853,\n",
       "        0.05649512, -0.03052731,  0.06966446,  0.01507293, -0.14274776,\n",
       "       -0.40885502,  0.2893703 ,  0.3201632 , -0.27072856, -0.04702847,\n",
       "        0.41056094,  0.51552117, -0.27452162, -0.10154261,  0.41732824,\n",
       "        0.15827584, -0.03746929,  0.17745009, -0.03559239, -0.29721352,\n",
       "       -0.39473224, -0.04143994,  0.05495927,  0.47845373, -0.32670122,\n",
       "        0.14475909,  0.35896015, -0.3800541 ,  0.29924598, -0.31741822,\n",
       "       -0.71888554, -0.35691768, -0.2958643 , -0.37184098,  0.08903536,\n",
       "       -0.12709911, -0.06632375,  0.03680592,  0.27049237,  0.00893382,\n",
       "       -0.20365159, -0.27380955,  0.08020782,  0.12610178,  0.04507966,\n",
       "       -0.56111956, -0.62939566, -0.32951435, -0.1810639 , -0.28960884,\n",
       "        0.6197792 , -0.10272317, -0.12893517,  0.2511102 , -0.04666989,\n",
       "       -0.01017368,  0.2778579 , -0.06260373,  0.32465425,  0.61492896,\n",
       "        0.13165517,  0.2256508 ,  0.4113643 , -0.07210559,  0.21978192,\n",
       "        0.2030308 , -0.4252658 , -0.03872509, -0.3849392 , -0.17426725,\n",
       "        0.65441537, -0.54959536, -0.41553697,  0.03038502,  0.63821596,\n",
       "        0.02551245, -0.10792938,  0.4714141 ,  0.17638063,  0.21021639,\n",
       "       -0.22764762, -0.07045569, -0.27518165,  0.1774276 ,  0.23115063,\n",
       "       -0.59743494,  0.44871888, -0.10782384,  0.37884295,  0.29360834,\n",
       "        0.0363479 ,  0.22075066, -0.34550273, -0.2987647 , -0.14842781,\n",
       "       -0.23698306, -0.14348198, -0.0511187 , -0.14244387,  0.20397018,\n",
       "        0.25838128,  0.4832477 , -0.22960119,  0.01627262, -0.21261746,\n",
       "       -0.2715558 ,  0.28467602,  0.15231182, -0.09285944,  0.28947443,\n",
       "       -0.06843787,  0.1255881 ,  0.8702048 ,  0.02227183,  0.27699545,\n",
       "        0.19527818,  0.38627282, -0.01307742, -0.12605608,  0.06644178,\n",
       "        0.02891991, -0.20725605,  0.17995903, -0.1606334 ,  0.27738062,\n",
       "       -0.44023108,  0.13876231, -0.17100142,  0.07651781, -0.31987593,\n",
       "        0.39109808, -0.64132386, -0.18748127, -0.15217304, -0.33366784,\n",
       "       -0.23702534, -0.09647428,  0.14715166,  0.50744605, -0.47037542,\n",
       "        0.22670864,  0.01208101, -0.5175762 ,  0.28740397,  0.24730249,\n",
       "       -0.14597584,  0.71664655, -0.10583282, -0.10196099, -0.26773652,\n",
       "       -0.30576602,  0.31484523, -0.33663896, -0.4439698 ,  0.13530843,\n",
       "       -0.48986742, -0.04291547,  0.04542742, -0.12595604,  0.01892297,\n",
       "       -0.16023673, -0.09223235, -0.3519353 , -0.27544725, -0.35941103,\n",
       "        0.26816747, -0.26366055,  0.09045722, -0.09209683, -0.19774392,\n",
       "        0.4626923 ,  0.11606661,  0.13637708,  0.0600035 ,  0.3952663 ,\n",
       "       -0.11322273,  0.12690416,  0.4223611 , -0.3319263 , -0.0074226 ,\n",
       "        0.181907  , -0.5575815 , -0.24921872,  0.5261132 , -0.17298555,\n",
       "        0.4189706 ,  0.00610934, -0.8102452 ,  0.13547905, -0.07609115,\n",
       "       -0.3848198 , -0.15416847,  0.46580663, -0.00973997,  0.41822353,\n",
       "       -0.0420084 ,  0.22273165, -0.6414529 ,  0.18634477, -0.1320177 ,\n",
       "       -0.3993432 , -0.29942054, -0.17588404,  0.01930285,  0.15464629,\n",
       "        0.0271406 ,  0.32141694,  0.26384956,  0.32256746, -0.0999136 ,\n",
       "       -0.00914712,  0.04311815,  0.06883949, -0.26403832, -0.23895177,\n",
       "        0.06563807, -0.32052973,  0.51667506,  0.28173164, -0.03728829,\n",
       "        0.10617348,  0.46699637, -0.15934104, -0.00895077,  0.03029792,\n",
       "       -0.0790227 , -0.15837127,  0.07571064,  0.08949807,  0.31985927,\n",
       "        0.22785452, -0.04943721, -0.39527982, -0.47163686,  0.20657642,\n",
       "        0.01421705,  0.4552891 , -0.13419099, -0.03937298, -0.12779118,\n",
       "        0.30422038,  0.00630774, -0.61479425,  0.30588475, -0.1631542 ,\n",
       "        0.47571513,  0.23350583, -0.03703165,  0.6147397 , -0.6354517 ,\n",
       "        0.04949358, -0.23769939, -0.0374764 , -0.20668483,  0.03984997,\n",
       "        0.05531057, -0.14646474, -0.7818065 , -0.1705449 , -0.47148925,\n",
       "        0.7534342 ,  0.16350834, -0.4402775 ,  0.3062885 , -0.2754479 ,\n",
       "        0.7068775 ,  0.74453825,  0.44501626, -0.32818314, -0.6157321 ,\n",
       "        0.24681088,  0.20351061, -0.4685785 , -0.20134608, -0.12309294],\n",
       "      dtype=float32)"
      ]
     },
     "execution_count": 53,
     "metadata": {},
     "output_type": "execute_result"
    }
   ],
   "source": [
    "navec['навек']"
   ]
  },
  {
   "cell_type": "code",
   "execution_count": null,
   "id": "d6f82f59",
   "metadata": {},
   "outputs": [],
   "source": []
  },
  {
   "cell_type": "code",
   "execution_count": 42,
   "id": "16f58be8",
   "metadata": {
    "scrolled": true
   },
   "outputs": [
    {
     "name": "stdout",
     "output_type": "stream",
     "text": [
      "Processing ./navec_hudlit_v1_12B_500K_300d_100q.tar\n",
      "\u001b[31mERROR: file:///home/boris/Documents/ML_COURSES/ethnicity_and_toxicity/navec_hudlit_v1_12B_500K_300d_100q.tar does not appear to be a Python project: neither 'setup.py' nor 'pyproject.toml' found.\u001b[0m\u001b[31m\n",
      "\u001b[0m"
     ]
    }
   ],
   "source": [
    "!pip3 install navec_hudlit_v1_12B_500K_300d_100q.tar"
   ]
  },
  {
   "cell_type": "code",
   "execution_count": 58,
   "id": "2034def8",
   "metadata": {},
   "outputs": [
    {
     "data": {
      "text/plain": [
       "['В фильме, как искажают нашу русскую, и в дегенератов.']"
      ]
     },
     "execution_count": 58,
     "metadata": {},
     "output_type": "execute_result"
    }
   ],
   "source": [
    "import nlpaug.augmenter\n",
    "aug = nlpaug.augmenter.word.random.RandomWordAug(aug_p=1)\n",
    "aug.augment(data['source_text'][4],n=1)"
   ]
  },
  {
   "cell_type": "code",
   "execution_count": 54,
   "id": "5c109cc9",
   "metadata": {
    "scrolled": true
   },
   "outputs": [],
   "source": [
    "# def augment_text(df ,samples=300,pr=0.2):\n",
    "#     aug_w2v.aug_p=pr\n",
    "#     new_text=[]\n",
    "\n",
    "#     ##selecting the minority class samples\n",
    "#     df_n=df[df.target==1].reset_index(drop=True)\n",
    "\n",
    "#     ## data augmentation loop\n",
    "#     for i in tqdm(np.random.randint(0,len(df_n),samples)):\n",
    "\n",
    "#             text = df_n.iloc[i]['lemm_text']\n",
    "#             augmented_text = aug_w2v.augment(text)\n",
    "#             new_text.append(augmented_text)\n",
    "\n",
    "\n",
    "#     ## dataframe\n",
    "#     new=pd.DataFrame({'lemm_text':new_text,'target':1})\n",
    "#     df=shuffle(df.append(new).reset_index(drop=True))\n",
    "#     return df\n",
    "\n",
    "# train = augment_text(data)"
   ]
  },
  {
   "cell_type": "code",
   "execution_count": 55,
   "id": "f869c6df",
   "metadata": {},
   "outputs": [],
   "source": [
    "from sklearn.neighbors import NearestNeighbors\n",
    "\n",
    "synonyms_number = 5\n",
    "word_number = 20000"
   ]
  },
  {
   "cell_type": "code",
   "execution_count": 60,
   "id": "69f7c9dd",
   "metadata": {},
   "outputs": [
    {
     "data": {
      "text/plain": [
       "'желтка'"
      ]
     },
     "execution_count": 60,
     "metadata": {},
     "output_type": "execute_result"
    }
   ],
   "source": [
    "navec.vocab.words[123123]"
   ]
  },
  {
   "cell_type": "code",
   "execution_count": 56,
   "id": "6aff2ad8",
   "metadata": {},
   "outputs": [
    {
     "ename": "NameError",
     "evalue": "name 'embed_mat' is not defined",
     "output_type": "error",
     "traceback": [
      "\u001b[0;31m---------------------------------------------------------------------------\u001b[0m",
      "\u001b[0;31mNameError\u001b[0m                                 Traceback (most recent call last)",
      "Cell \u001b[0;32mIn[56], line 1\u001b[0m\n\u001b[0;32m----> 1\u001b[0m nn \u001b[38;5;241m=\u001b[39m NearestNeighbors(n_neighbors\u001b[38;5;241m=\u001b[39msynonyms_number\u001b[38;5;241m+\u001b[39m\u001b[38;5;241m1\u001b[39m)\u001b[38;5;241m.\u001b[39mfit(\u001b[43membed_mat\u001b[49m) \n",
      "\u001b[0;31mNameError\u001b[0m: name 'embed_mat' is not defined"
     ]
    }
   ],
   "source": [
    "nn = NearestNeighbors(n_neighbors=synonyms_number+1).fit(embed_mat) "
   ]
  }
 ],
 "metadata": {
  "kernelspec": {
   "display_name": "Python 3 (ipykernel)",
   "language": "python",
   "name": "python3"
  },
  "language_info": {
   "codemirror_mode": {
    "name": "ipython",
    "version": 3
   },
   "file_extension": ".py",
   "mimetype": "text/x-python",
   "name": "python",
   "nbconvert_exporter": "python",
   "pygments_lexer": "ipython3",
   "version": "3.10.8"
  }
 },
 "nbformat": 4,
 "nbformat_minor": 5
}
