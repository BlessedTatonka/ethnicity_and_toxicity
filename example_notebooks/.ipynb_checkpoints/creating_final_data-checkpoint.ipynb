{
 "cells": [
  {
   "cell_type": "code",
   "execution_count": 1,
   "id": "70726588",
   "metadata": {},
   "outputs": [],
   "source": [
    "import numpy as np\n",
    "import pandas as pd"
   ]
  },
  {
   "cell_type": "code",
   "execution_count": 2,
   "id": "0ddd391a",
   "metadata": {},
   "outputs": [],
   "source": [
    "f = 'C:/koltcov_python_scripts/Project_2022-23/etnohate_2023/filtr_7columns.csv'"
   ]
  },
  {
   "cell_type": "code",
   "execution_count": 3,
   "id": "bf23f913",
   "metadata": {},
   "outputs": [
    {
     "name": "stdout",
     "output_type": "stream",
     "text": [
      "full data loaded\n",
      "number of rows:  17474\n",
      "number of columns (features):  9\n"
     ]
    },
    {
     "data": {
      "text/plain": [
       "(17474, 9)"
      ]
     },
     "execution_count": 3,
     "metadata": {},
     "output_type": "execute_result"
    }
   ],
   "source": [
    "# read data from csv file\n",
    "df = pd.read_csv(f, delimiter=';', encoding='utf8')\n",
    "\n",
    "# see the size of the uploaded data\n",
    "num_rows, num_feature =df.shape\n",
    "print('full data loaded')\n",
    "print('number of rows: ', num_rows)\n",
    "print('number of columns (features): ', num_feature)\n",
    "\n",
    "#astype('int32').dtypes\n",
    "\n",
    "#we print out the names of the columns. This is necessary because when indexing, you can specify the name of the column\n",
    "#print(list(df))\n",
    "df.shape"
   ]
  },
  {
   "cell_type": "code",
   "execution_count": 5,
   "id": "dbf7575c",
   "metadata": {},
   "outputs": [
    {
     "data": {
      "text/plain": [
       "['Unnamed: 0',\n",
       " 'document.id',\n",
       " 'source',\n",
       " 'stage',\n",
       " 'data',\n",
       " 'seed_eth_group',\n",
       " 'eth_group_to_code',\n",
       " 'do_text_make_sense_recoded',\n",
       " 'is_ethicity_superior_meaning']"
      ]
     },
     "execution_count": 5,
     "metadata": {},
     "output_type": "execute_result"
    }
   ],
   "source": [
    "list(df)"
   ]
  },
  {
   "cell_type": "code",
   "execution_count": 6,
   "id": "0b910ccf",
   "metadata": {},
   "outputs": [
    {
     "data": {
      "text/plain": [
       "0               883\n",
       "1         747748908\n",
       "2         538214094\n",
       "3         921049626\n",
       "4               883\n",
       "            ...    \n",
       "17469     791372969\n",
       "17470    1035845275\n",
       "17471    1077734080\n",
       "17472     565626156\n",
       "17473     420869321\n",
       "Name: document.id, Length: 17474, dtype: int32"
      ]
     },
     "execution_count": 6,
     "metadata": {},
     "output_type": "execute_result"
    }
   ],
   "source": [
    "df['document.id'].astype(int)"
   ]
  },
  {
   "cell_type": "code",
   "execution_count": 7,
   "id": "416c5c81",
   "metadata": {},
   "outputs": [
    {
     "data": {
      "text/plain": [
       "7612"
      ]
     },
     "execution_count": 7,
     "metadata": {},
     "output_type": "execute_result"
    }
   ],
   "source": [
    "unic_labels = df['document.id'].unique()\n",
    "len(unic_labels)"
   ]
  },
  {
   "cell_type": "code",
   "execution_count": 8,
   "id": "4872666d",
   "metadata": {},
   "outputs": [],
   "source": [
    "del df['Unnamed: 0']\n",
    "del df['do_text_make_sense_recoded']"
   ]
  },
  {
   "cell_type": "code",
   "execution_count": 247,
   "id": "59686189",
   "metadata": {},
   "outputs": [
    {
     "data": {
      "text/html": [
       "<div><div id=6ecf71d6-08a1-41cc-8104-77b62fe54007 style=\"display:none; background-color:#9D6CFF; color:white; width:200px; height:30px; padding-left:5px; border-radius:4px; flex-direction:row; justify-content:space-around; align-items:center;\" onmouseover=\"this.style.backgroundColor='#BA9BF8'\" onmouseout=\"this.style.backgroundColor='#9D6CFF'\" onclick=\"window.commands?.execute('create-mitosheet-from-dataframe-output');\">See Full Dataframe in Mito</div> <script> if (window.commands?.hasCommand('create-mitosheet-from-dataframe-output')) document.getElementById('6ecf71d6-08a1-41cc-8104-77b62fe54007').style.display = 'flex' </script> <table border=\"1\" class=\"dataframe\">\n",
       "  <thead>\n",
       "    <tr style=\"text-align: right;\">\n",
       "      <th></th>\n",
       "      <th>document.id</th>\n",
       "      <th>source</th>\n",
       "      <th>stage</th>\n",
       "      <th>data</th>\n",
       "      <th>seed_eth_group</th>\n",
       "      <th>eth_group_to_code</th>\n",
       "      <th>is_ethicity_superior_meaning</th>\n",
       "    </tr>\n",
       "  </thead>\n",
       "  <tbody>\n",
       "    <tr>\n",
       "      <th>0</th>\n",
       "      <td>883</td>\n",
       "      <td>vk</td>\n",
       "      <td>1</td>\n",
       "      <td>2016-09-25 20:06:34</td>\n",
       "      <td>монгол</td>\n",
       "      <td>тибетец</td>\n",
       "      <td>irrel</td>\n",
       "    </tr>\n",
       "    <tr>\n",
       "      <th>1</th>\n",
       "      <td>747748908</td>\n",
       "      <td>iqbuzz</td>\n",
       "      <td>3</td>\n",
       "      <td>2017-03-24 02:05:26</td>\n",
       "      <td>уйгур</td>\n",
       "      <td>тибетец</td>\n",
       "      <td>irrel</td>\n",
       "    </tr>\n",
       "    <tr>\n",
       "      <th>2</th>\n",
       "      <td>538214094</td>\n",
       "      <td>iqbuzz</td>\n",
       "      <td>2</td>\n",
       "      <td>2016-10-12 14:30:11</td>\n",
       "      <td>удмурт</td>\n",
       "      <td>тибетец</td>\n",
       "      <td>irrel</td>\n",
       "    </tr>\n",
       "    <tr>\n",
       "      <th>3</th>\n",
       "      <td>921049626</td>\n",
       "      <td>iqbuzz</td>\n",
       "      <td>2</td>\n",
       "      <td>2016-10-21 17:18:06</td>\n",
       "      <td>уйгур</td>\n",
       "      <td>тибетец</td>\n",
       "      <td>irrel</td>\n",
       "    </tr>\n",
       "    <tr>\n",
       "      <th>4</th>\n",
       "      <td>883</td>\n",
       "      <td>vk</td>\n",
       "      <td>1</td>\n",
       "      <td>2016-09-25 20:06:34</td>\n",
       "      <td>монгол</td>\n",
       "      <td>монгол</td>\n",
       "      <td>irrel</td>\n",
       "    </tr>\n",
       "    <tr>\n",
       "      <th>...</th>\n",
       "      <td>...</td>\n",
       "      <td>...</td>\n",
       "      <td>...</td>\n",
       "      <td>...</td>\n",
       "      <td>...</td>\n",
       "      <td>...</td>\n",
       "      <td>...</td>\n",
       "    </tr>\n",
       "    <tr>\n",
       "      <th>17469</th>\n",
       "      <td>791372969</td>\n",
       "      <td>iqbuzz</td>\n",
       "      <td>2</td>\n",
       "      <td>2016-09-27 12:53:13</td>\n",
       "      <td>нерусь</td>\n",
       "      <td>ливиец</td>\n",
       "      <td>irrel</td>\n",
       "    </tr>\n",
       "    <tr>\n",
       "      <th>17470</th>\n",
       "      <td>1035845275</td>\n",
       "      <td>iqbuzz</td>\n",
       "      <td>2</td>\n",
       "      <td>2016-09-21 20:45:59</td>\n",
       "      <td>ингуш</td>\n",
       "      <td>киприот</td>\n",
       "      <td>irrel</td>\n",
       "    </tr>\n",
       "    <tr>\n",
       "      <th>17471</th>\n",
       "      <td>1077734080</td>\n",
       "      <td>iqbuzz</td>\n",
       "      <td>2</td>\n",
       "      <td>2016-10-21 17:05:39</td>\n",
       "      <td>казах</td>\n",
       "      <td>саудовец</td>\n",
       "      <td>irrel</td>\n",
       "    </tr>\n",
       "    <tr>\n",
       "      <th>17472</th>\n",
       "      <td>565626156</td>\n",
       "      <td>iqbuzz</td>\n",
       "      <td>2</td>\n",
       "      <td>2016-10-12 12:46:09</td>\n",
       "      <td>нанаец</td>\n",
       "      <td>малаец</td>\n",
       "      <td>irrel</td>\n",
       "    </tr>\n",
       "    <tr>\n",
       "      <th>17473</th>\n",
       "      <td>420869321</td>\n",
       "      <td>iqbuzz</td>\n",
       "      <td>2</td>\n",
       "      <td>2016-08-05 19:04:55</td>\n",
       "      <td>туркмен</td>\n",
       "      <td>бербер</td>\n",
       "      <td>irrel</td>\n",
       "    </tr>\n",
       "  </tbody>\n",
       "</table></div>"
      ],
      "text/plain": [
       "       document.id  source  stage                 data seed_eth_group  \\\n",
       "0              883      vk      1  2016-09-25 20:06:34         монгол   \n",
       "1        747748908  iqbuzz      3  2017-03-24 02:05:26          уйгур   \n",
       "2        538214094  iqbuzz      2  2016-10-12 14:30:11         удмурт   \n",
       "3        921049626  iqbuzz      2  2016-10-21 17:18:06          уйгур   \n",
       "4              883      vk      1  2016-09-25 20:06:34         монгол   \n",
       "...            ...     ...    ...                  ...            ...   \n",
       "17469    791372969  iqbuzz      2  2016-09-27 12:53:13         нерусь   \n",
       "17470   1035845275  iqbuzz      2  2016-09-21 20:45:59          ингуш   \n",
       "17471   1077734080  iqbuzz      2  2016-10-21 17:05:39          казах   \n",
       "17472    565626156  iqbuzz      2  2016-10-12 12:46:09         нанаец   \n",
       "17473    420869321  iqbuzz      2  2016-08-05 19:04:55        туркмен   \n",
       "\n",
       "      eth_group_to_code is_ethicity_superior_meaning  \n",
       "0               тибетец                        irrel  \n",
       "1               тибетец                        irrel  \n",
       "2               тибетец                        irrel  \n",
       "3               тибетец                        irrel  \n",
       "4                монгол                        irrel  \n",
       "...                 ...                          ...  \n",
       "17469            ливиец                        irrel  \n",
       "17470           киприот                        irrel  \n",
       "17471          саудовец                        irrel  \n",
       "17472            малаец                        irrel  \n",
       "17473            бербер                        irrel  \n",
       "\n",
       "[17474 rows x 7 columns]"
      ]
     },
     "execution_count": 247,
     "metadata": {},
     "output_type": "execute_result"
    }
   ],
   "source": [
    "df"
   ]
  },
  {
   "cell_type": "code",
   "execution_count": 10,
   "id": "bf4245ba",
   "metadata": {},
   "outputs": [
    {
     "name": "stdout",
     "output_type": "stream",
     "text": [
      "full data loaded\n",
      "number of rows:  14998\n",
      "number of columns (features):  8\n"
     ]
    },
    {
     "data": {
      "text/plain": [
       "(14998, 8)"
      ]
     },
     "execution_count": 10,
     "metadata": {},
     "output_type": "execute_result"
    }
   ],
   "source": [
    "# читаем файл  с текстами\n",
    "f1 = 'C:/koltcov_python_scripts/Project_2022-23/etnohate_2023/file1_14998_texts_and_metadata.txt'\n",
    "df1 = pd.read_csv(f1, delimiter='\t', encoding='utf8')\n",
    "\n",
    "# see the size of the uploaded data\n",
    "num_rows1, num_feature1 =df1.shape\n",
    "print('full data loaded')\n",
    "print('number of rows: ', num_rows1)\n",
    "print('number of columns (features): ', num_feature1)\n",
    "\n",
    "#astype('int32').dtypes\n",
    "\n",
    "#we print out the names of the columns. This is necessary because when indexing, you can specify the name of the column\n",
    "#print(list(df))\n",
    "df1.shape"
   ]
  },
  {
   "cell_type": "code",
   "execution_count": 11,
   "id": "303d7b31",
   "metadata": {},
   "outputs": [
    {
     "data": {
      "text/plain": [
       "0        885072939\n",
       "1        627169733\n",
       "2        632784345\n",
       "3        632886756\n",
       "4        635041456\n",
       "           ...    \n",
       "14993      5351451\n",
       "14994      5351697\n",
       "14995      5354254\n",
       "14996      5370950\n",
       "14997      5371001\n",
       "Name: document.id, Length: 14998, dtype: int32"
      ]
     },
     "execution_count": 11,
     "metadata": {},
     "output_type": "execute_result"
    }
   ],
   "source": [
    "df1['document.id'].astype(int)"
   ]
  },
  {
   "cell_type": "code",
   "execution_count": 12,
   "id": "731403b3",
   "metadata": {},
   "outputs": [
    {
     "data": {
      "text/plain": [
       "['document.id',\n",
       " 'source',\n",
       " 'stage',\n",
       " 'source_text',\n",
       " 'lemm_text',\n",
       " 'city',\n",
       " 'region',\n",
       " 'date']"
      ]
     },
     "execution_count": 12,
     "metadata": {},
     "output_type": "execute_result"
    }
   ],
   "source": [
    "list(df1)"
   ]
  },
  {
   "cell_type": "code",
   "execution_count": 270,
   "id": "54a0fbe5",
   "metadata": {},
   "outputs": [],
   "source": [
    "#df2 = df1.drop_duplicates (subset=['document.id'])"
   ]
  },
  {
   "cell_type": "code",
   "execution_count": 13,
   "id": "f024a923",
   "metadata": {},
   "outputs": [
    {
     "data": {
      "text/plain": [
       "(14998, 8)"
      ]
     },
     "execution_count": 13,
     "metadata": {},
     "output_type": "execute_result"
    }
   ],
   "source": [
    "df1.shape"
   ]
  },
  {
   "cell_type": "code",
   "execution_count": 14,
   "id": "e9f715f1",
   "metadata": {},
   "outputs": [],
   "source": [
    "#del df2['source_text']\n",
    "del df1['lemm_text']"
   ]
  },
  {
   "cell_type": "code",
   "execution_count": 18,
   "id": "915c4542",
   "metadata": {},
   "outputs": [
    {
     "data": {
      "text/plain": [
       "['document.id', 'source', 'stage', 'source_text', 'city', 'region', 'date']"
      ]
     },
     "execution_count": 18,
     "metadata": {},
     "output_type": "execute_result"
    }
   ],
   "source": [
    "list(df1)"
   ]
  },
  {
   "cell_type": "code",
   "execution_count": 19,
   "id": "f63f5c72",
   "metadata": {},
   "outputs": [
    {
     "name": "stdout",
     "output_type": "stream",
     "text": [
      "document.id       0\n",
      "source            0\n",
      "stage             0\n",
      "source_text       1\n",
      "city           1140\n",
      "region          870\n",
      "date              2\n",
      "dtype: int64\n"
     ]
    }
   ],
   "source": [
    "print(pd.isnull(df1).sum())"
   ]
  },
  {
   "cell_type": "code",
   "execution_count": 298,
   "id": "d4781157",
   "metadata": {},
   "outputs": [],
   "source": [
    "#df2.head(10)"
   ]
  },
  {
   "cell_type": "code",
   "execution_count": 20,
   "id": "ed05ec96",
   "metadata": {},
   "outputs": [
    {
     "data": {
      "text/plain": [
       "(17474, 11)"
      ]
     },
     "execution_count": 20,
     "metadata": {},
     "output_type": "execute_result"
    }
   ],
   "source": [
    "# содинение двух датафреймов\n",
    "#df_full=pd.merge(df, df2, how='left', left_on=df['document.id'], right_on=df1['document.id'])\n",
    "df_full=pd.merge(df, df1, how='left')\n",
    "df_full.shape"
   ]
  },
  {
   "cell_type": "code",
   "execution_count": 301,
   "id": "ff6e0840",
   "metadata": {},
   "outputs": [],
   "source": [
    "#print(pd.isnull(df_full).sum())\n",
    "#empty_df=pd.isnull(df_full)"
   ]
  },
  {
   "cell_type": "code",
   "execution_count": 21,
   "id": "350e2f57",
   "metadata": {},
   "outputs": [
    {
     "data": {
      "text/plain": [
       "(17474, 11)"
      ]
     },
     "execution_count": 21,
     "metadata": {},
     "output_type": "execute_result"
    }
   ],
   "source": [
    "# удаляем дубликаты\n",
    "df_full.drop_duplicates().shape"
   ]
  },
  {
   "cell_type": "code",
   "execution_count": 27,
   "id": "37890687",
   "metadata": {},
   "outputs": [
    {
     "data": {
      "text/plain": [
       "['document.id',\n",
       " 'source',\n",
       " 'stage',\n",
       " 'data',\n",
       " 'seed_eth_group',\n",
       " 'eth_group_to_code',\n",
       " 'is_ethicity_superior_meaning',\n",
       " 'source_text',\n",
       " 'city',\n",
       " 'region',\n",
       " 'date']"
      ]
     },
     "execution_count": 27,
     "metadata": {},
     "output_type": "execute_result"
    }
   ],
   "source": [
    "list(df_full)"
   ]
  },
  {
   "cell_type": "code",
   "execution_count": 29,
   "id": "bdc66cb0",
   "metadata": {},
   "outputs": [],
   "source": [
    "df_full.to_csv('final_dataset.csv', sep=';', encoding='utf8')"
   ]
  },
  {
   "cell_type": "code",
   "execution_count": 30,
   "id": "2a4c736d",
   "metadata": {},
   "outputs": [
    {
     "name": "stdout",
     "output_type": "stream",
     "text": [
      "(17474, 4)\n"
     ]
    }
   ],
   "source": [
    "# создадим пустой датафрейм с колонками\n",
    "mycolumn=['document.id', 'eth_group_to_code', 'source_text', 'is_ethicity_superior_meaning']\n",
    "nextdf1 = df_full[mycolumn]\n",
    "print(nextdf1.shape)\n",
    "#nextdf"
   ]
  },
  {
   "cell_type": "code",
   "execution_count": 31,
   "id": "2d52d97c",
   "metadata": {},
   "outputs": [
    {
     "name": "stderr",
     "output_type": "stream",
     "text": [
      "C:\\Users\\User\\AppData\\Local\\Temp\\ipykernel_9984\\2791887846.py:2: SettingWithCopyWarning: \n",
      "A value is trying to be set on a copy of a slice from a DataFrame.\n",
      "Try using .loc[row_indexer,col_indexer] = value instead\n",
      "\n",
      "See the caveats in the documentation: https://pandas.pydata.org/pandas-docs/stable/user_guide/indexing.html#returning-a-view-versus-a-copy\n",
      "  nextdf1['code_text'] = nextdf1['eth_group_to_code'].map(str) + ' ' + nextdf1['source_text'].map(str)\n"
     ]
    }
   ],
   "source": [
    "# добавим колонку 'eth_group_to_code' к 'source_text' слева\n",
    "nextdf1['code_text'] = nextdf1['eth_group_to_code'].map(str) + ' ' + nextdf1['source_text'].map(str)"
   ]
  },
  {
   "cell_type": "code",
   "execution_count": 32,
   "id": "30470a3d",
   "metadata": {},
   "outputs": [
    {
     "data": {
      "text/plain": [
       "['document.id',\n",
       " 'eth_group_to_code',\n",
       " 'source_text',\n",
       " 'is_ethicity_superior_meaning',\n",
       " 'code_text']"
      ]
     },
     "execution_count": 32,
     "metadata": {},
     "output_type": "execute_result"
    }
   ],
   "source": [
    "list(nextdf1)"
   ]
  },
  {
   "cell_type": "code",
   "execution_count": 34,
   "id": "fb429a14",
   "metadata": {},
   "outputs": [
    {
     "data": {
      "text/plain": [
       "(17474, 4)"
      ]
     },
     "execution_count": 34,
     "metadata": {},
     "output_type": "execute_result"
    }
   ],
   "source": [
    "#del nextdf['eth_group_to_code']\n",
    "#del nextdf['source_text']\n",
    "del nextdf1['document.id']\n",
    "\n",
    "nextdf1.shape"
   ]
  },
  {
   "cell_type": "code",
   "execution_count": 39,
   "id": "907e3f5e",
   "metadata": {},
   "outputs": [
    {
     "data": {
      "text/plain": [
       "['eth_group_to_code',\n",
       " 'source_text',\n",
       " 'is_ethicity_superior_meaning',\n",
       " 'code_text']"
      ]
     },
     "execution_count": 39,
     "metadata": {},
     "output_type": "execute_result"
    }
   ],
   "source": [
    "list(nextdf1)"
   ]
  },
  {
   "cell_type": "code",
   "execution_count": 42,
   "id": "14c78654",
   "metadata": {},
   "outputs": [
    {
     "data": {
      "text/plain": [
       "0    тибетец\n",
       "1    тибетец\n",
       "2    тибетец\n",
       "3    тибетец\n",
       "4     монгол\n",
       "5     монгол\n",
       "6     монгол\n",
       "7     монгол\n",
       "8     монгол\n",
       "9     монгол\n",
       "Name: eth_group_to_code, dtype: object"
      ]
     },
     "execution_count": 42,
     "metadata": {},
     "output_type": "execute_result"
    }
   ],
   "source": [
    "nextdf1['eth_group_to_code'].head(10)"
   ]
  },
  {
   "cell_type": "code",
   "execution_count": 43,
   "id": "be4913a0",
   "metadata": {},
   "outputs": [],
   "source": [
    "nextdf1.to_csv('final_dataset_drop_dubl1.csv', sep=';', encoding='utf8')"
   ]
  },
  {
   "cell_type": "code",
   "execution_count": 44,
   "id": "e4a19eb4",
   "metadata": {},
   "outputs": [
    {
     "name": "stdout",
     "output_type": "stream",
     "text": [
      "high       545\n",
      "irrel    15351\n",
      "low       1578\n",
      "Name: is_ethicity_superior_meaning, dtype: int64\n"
     ]
    },
    {
     "data": {
      "text/plain": [
       "<Axes: >"
      ]
     },
     "execution_count": 44,
     "metadata": {},
     "output_type": "execute_result"
    },
    {
     "data": {
      "image/png": "[encoded data removed]",
      "text/plain": [
       "<Figure size 640x480 with 1 Axes>"
      ]
     },
     "metadata": {},
     "output_type": "display_data"
    }
   ],
   "source": [
    "# давайте посмотрим распределение оценок\n",
    "import matplotlib.pyplot as plt\n",
    "%matplotlib inline\n",
    "# value_counts () - a command that allows you to calculate the number of unique values\n",
    "vc = nextdf1['is_ethicity_superior_meaning'].value_counts()\n",
    "vc = vc.sort_index()\n",
    "print(vc)\n",
    "vc.plot(kind='bar')"
   ]
  },
  {
   "cell_type": "code",
   "execution_count": 160,
   "id": "3f389f87",
   "metadata": {},
   "outputs": [
    {
     "data": {
      "text/plain": [
       "18861"
      ]
     },
     "execution_count": 160,
     "metadata": {},
     "output_type": "execute_result"
    }
   ],
   "source": []
  },
  {
   "cell_type": "code",
   "execution_count": null,
   "id": "b5cec553",
   "metadata": {},
   "outputs": [],
   "source": []
  }
 ],
 "metadata": {
  "kernelspec": {
   "display_name": "Python 3 (base)",
   "language": "python",
   "name": "python_base"
  },
  "language_info": {
   "codemirror_mode": {
    "name": "ipython",
    "version": 3
   },
   "file_extension": ".py",
   "mimetype": "text/x-python",
   "name": "python",
   "nbconvert_exporter": "python",
   "pygments_lexer": "ipython3",
   "version": "3.9.7"
  }
 },
 "nbformat": 4,
 "nbformat_minor": 5
}
