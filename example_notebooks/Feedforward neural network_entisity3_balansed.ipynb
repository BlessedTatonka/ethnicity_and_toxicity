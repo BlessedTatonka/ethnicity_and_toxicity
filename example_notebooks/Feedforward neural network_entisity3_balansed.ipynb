{
 "cells": [
  {
   "cell_type": "code",
   "execution_count": 2,
   "id": "2c8981cc",
   "metadata": {},
   "outputs": [],
   "source": [
    "import numpy as np\n",
    "import pandas as pd"
   ]
  },
  {
   "cell_type": "code",
   "execution_count": 8,
   "id": "e88b09b2",
   "metadata": {},
   "outputs": [
    {
     "name": "stdout",
     "output_type": "stream",
     "text": [
      "Dataset size (17474, 3)\n",
      "row number:  17474\n",
      "feature number:  3\n",
      "\n",
      "names of features:  ['Unnamed: 0', 'is_ethicity_superior_meaning', 'code_text']\n"
     ]
    }
   ],
   "source": [
    "# читаем файл с лематизированным датасетом\n",
    "# читаем лематизированный текст\n",
    "# load dataset from file csv\n",
    "f = 'C:/koltcov_python_scripts/Project_2022-23/etnohate_2023/neurol_network/final_dataset_drop_dubl.csv'\n",
    "\n",
    "#df=pd.read_csv(f,  sep=';', encoding='utf8')\n",
    "#df=pd.read_csv(f,  sep=';', encoding='cp1252' )\n",
    "#df=pd.read_csv(f,  sep=';', encoding='Latin-1')\n",
    "#df=pd.read_csv(f,  sep=';', encoding='ANSI')\n",
    "\n",
    "# читаем xls файлы\n",
    "df1 = pd.read_csv(f,  sep=';', encoding='utf8')\n",
    "\n",
    "\n",
    "# this gives us the size of the array\n",
    "print('Dataset size', df1.shape)\n",
    "\n",
    "# here we can get size of array as two variables\n",
    "num_rows1, num_feature1 = df1.shape\n",
    "\n",
    "print('row number: ', num_rows1)\n",
    "print('feature number: ', num_feature1)\n",
    "print()\n",
    "print('names of features: ', list(df1))"
   ]
  },
  {
   "cell_type": "code",
   "execution_count": 6,
   "id": "8c7221e6",
   "metadata": {},
   "outputs": [
    {
     "data": {
      "text/html": [
       "<div>\n",
       "<style scoped>\n",
       "    .dataframe tbody tr th:only-of-type {\n",
       "        vertical-align: middle;\n",
       "    }\n",
       "\n",
       "    .dataframe tbody tr th {\n",
       "        vertical-align: top;\n",
       "    }\n",
       "\n",
       "    .dataframe thead th {\n",
       "        text-align: right;\n",
       "    }\n",
       "</style>\n",
       "<table border=\"1\" class=\"dataframe\">\n",
       "  <thead>\n",
       "    <tr style=\"text-align: right;\">\n",
       "      <th></th>\n",
       "      <th>Unnamed: 0</th>\n",
       "      <th>is_ethicity_superior_meaning</th>\n",
       "      <th>code_text</th>\n",
       "    </tr>\n",
       "  </thead>\n",
       "  <tbody>\n",
       "    <tr>\n",
       "      <th>0</th>\n",
       "      <td>0</td>\n",
       "      <td>irrel</td>\n",
       "      <td>тибетец Музыка Китая – одна из древнейших в ми...</td>\n",
       "    </tr>\n",
       "    <tr>\n",
       "      <th>1</th>\n",
       "      <td>1</td>\n",
       "      <td>irrel</td>\n",
       "      <td>тибетец [[id9183485|Юрий], В число 55 национал...</td>\n",
       "    </tr>\n",
       "    <tr>\n",
       "      <th>2</th>\n",
       "      <td>2</td>\n",
       "      <td>irrel</td>\n",
       "      <td>тибетец русофоб?! пфффф.. &lt;br/&gt; милок, ты слиш...</td>\n",
       "    </tr>\n",
       "    <tr>\n",
       "      <th>3</th>\n",
       "      <td>3</td>\n",
       "      <td>irrel</td>\n",
       "      <td>тибетец Узбекистан и Иран - унитарные, и со ст...</td>\n",
       "    </tr>\n",
       "    <tr>\n",
       "      <th>4</th>\n",
       "      <td>4</td>\n",
       "      <td>irrel</td>\n",
       "      <td>монгол Музыка Китая – одна из древнейших в мир...</td>\n",
       "    </tr>\n",
       "    <tr>\n",
       "      <th>...</th>\n",
       "      <td>...</td>\n",
       "      <td>...</td>\n",
       "      <td>...</td>\n",
       "    </tr>\n",
       "    <tr>\n",
       "      <th>17469</th>\n",
       "      <td>17469</td>\n",
       "      <td>irrel</td>\n",
       "      <td>ливиец Статья интересная))но она такая же бесп...</td>\n",
       "    </tr>\n",
       "    <tr>\n",
       "      <th>17470</th>\n",
       "      <td>17470</td>\n",
       "      <td>irrel</td>\n",
       "      <td>киприот [[id200150463|Руслан], ну жители Велик...</td>\n",
       "    </tr>\n",
       "    <tr>\n",
       "      <th>17471</th>\n",
       "      <td>17471</td>\n",
       "      <td>irrel</td>\n",
       "      <td>саудовец Дзидек , ЖИД НЕ НАЦИОНАЛЬНОСТЬ , А МИ...</td>\n",
       "    </tr>\n",
       "    <tr>\n",
       "      <th>17472</th>\n",
       "      <td>17472</td>\n",
       "      <td>irrel</td>\n",
       "      <td>малаец Сань, когда эти долбаные ящики передали...</td>\n",
       "    </tr>\n",
       "    <tr>\n",
       "      <th>17473</th>\n",
       "      <td>17473</td>\n",
       "      <td>irrel</td>\n",
       "      <td>бербер RE: SgtPepper, ( А кромк Авицеены — что...</td>\n",
       "    </tr>\n",
       "  </tbody>\n",
       "</table>\n",
       "<p>17474 rows × 3 columns</p>\n",
       "</div>"
      ],
      "text/plain": [
       "       Unnamed: 0 is_ethicity_superior_meaning  \\\n",
       "0               0                        irrel   \n",
       "1               1                        irrel   \n",
       "2               2                        irrel   \n",
       "3               3                        irrel   \n",
       "4               4                        irrel   \n",
       "...           ...                          ...   \n",
       "17469       17469                        irrel   \n",
       "17470       17470                        irrel   \n",
       "17471       17471                        irrel   \n",
       "17472       17472                        irrel   \n",
       "17473       17473                        irrel   \n",
       "\n",
       "                                               code_text  \n",
       "0      тибетец Музыка Китая – одна из древнейших в ми...  \n",
       "1      тибетец [[id9183485|Юрий], В число 55 национал...  \n",
       "2      тибетец русофоб?! пфффф.. <br/> милок, ты слиш...  \n",
       "3      тибетец Узбекистан и Иран - унитарные, и со ст...  \n",
       "4      монгол Музыка Китая – одна из древнейших в мир...  \n",
       "...                                                  ...  \n",
       "17469  ливиец Статья интересная))но она такая же бесп...  \n",
       "17470  киприот [[id200150463|Руслан], ну жители Велик...  \n",
       "17471  саудовец Дзидек , ЖИД НЕ НАЦИОНАЛЬНОСТЬ , А МИ...  \n",
       "17472  малаец Сань, когда эти долбаные ящики передали...  \n",
       "17473  бербер RE: SgtPepper, ( А кромк Авицеены — что...  \n",
       "\n",
       "[17474 rows x 3 columns]"
      ]
     },
     "execution_count": 6,
     "metadata": {},
     "output_type": "execute_result"
    }
   ],
   "source": [
    "df1"
   ]
  },
  {
   "cell_type": "code",
   "execution_count": 4,
   "id": "1192b8ff",
   "metadata": {},
   "outputs": [],
   "source": [
    "# для удобства сделаем замену имен колонок\n",
    "#df1.rename(columns = {'0':'docs'}, inplace = True )\n",
    "del df1['Unnamed: 0']"
   ]
  },
  {
   "cell_type": "code",
   "execution_count": 5,
   "id": "22061dc7",
   "metadata": {},
   "outputs": [],
   "source": [
    "# трансформируем все в колонке 'code_text' в нижний регистр\n",
    "df1['code_text'] = df1['code_text'].str.lower()"
   ]
  },
  {
   "cell_type": "code",
   "execution_count": 6,
   "id": "09e23d43",
   "metadata": {},
   "outputs": [
    {
     "data": {
      "text/html": [
       "<div>\n",
       "<style scoped>\n",
       "    .dataframe tbody tr th:only-of-type {\n",
       "        vertical-align: middle;\n",
       "    }\n",
       "\n",
       "    .dataframe tbody tr th {\n",
       "        vertical-align: top;\n",
       "    }\n",
       "\n",
       "    .dataframe thead th {\n",
       "        text-align: right;\n",
       "    }\n",
       "</style>\n",
       "<table border=\"1\" class=\"dataframe\">\n",
       "  <thead>\n",
       "    <tr style=\"text-align: right;\">\n",
       "      <th></th>\n",
       "      <th>is_ethicity_superior_meaning</th>\n",
       "      <th>code_text</th>\n",
       "    </tr>\n",
       "  </thead>\n",
       "  <tbody>\n",
       "    <tr>\n",
       "      <th>0</th>\n",
       "      <td>irrel</td>\n",
       "      <td>тибетец музыка китая – одна из древнейших в ми...</td>\n",
       "    </tr>\n",
       "    <tr>\n",
       "      <th>1</th>\n",
       "      <td>irrel</td>\n",
       "      <td>тибетец [[id9183485|юрий], в число 55 национал...</td>\n",
       "    </tr>\n",
       "    <tr>\n",
       "      <th>2</th>\n",
       "      <td>irrel</td>\n",
       "      <td>тибетец русофоб?! пфффф.. &lt;br/&gt; милок, ты слиш...</td>\n",
       "    </tr>\n",
       "    <tr>\n",
       "      <th>3</th>\n",
       "      <td>irrel</td>\n",
       "      <td>тибетец узбекистан и иран - унитарные, и со ст...</td>\n",
       "    </tr>\n",
       "    <tr>\n",
       "      <th>4</th>\n",
       "      <td>irrel</td>\n",
       "      <td>монгол музыка китая – одна из древнейших в мир...</td>\n",
       "    </tr>\n",
       "    <tr>\n",
       "      <th>...</th>\n",
       "      <td>...</td>\n",
       "      <td>...</td>\n",
       "    </tr>\n",
       "    <tr>\n",
       "      <th>17469</th>\n",
       "      <td>irrel</td>\n",
       "      <td>ливиец статья интересная))но она такая же бесп...</td>\n",
       "    </tr>\n",
       "    <tr>\n",
       "      <th>17470</th>\n",
       "      <td>irrel</td>\n",
       "      <td>киприот [[id200150463|руслан], ну жители велик...</td>\n",
       "    </tr>\n",
       "    <tr>\n",
       "      <th>17471</th>\n",
       "      <td>irrel</td>\n",
       "      <td>саудовец дзидек , жид не национальность , а ми...</td>\n",
       "    </tr>\n",
       "    <tr>\n",
       "      <th>17472</th>\n",
       "      <td>irrel</td>\n",
       "      <td>малаец сань, когда эти долбаные ящики передали...</td>\n",
       "    </tr>\n",
       "    <tr>\n",
       "      <th>17473</th>\n",
       "      <td>irrel</td>\n",
       "      <td>бербер re: sgtpepper, ( а кромк авицеены — что...</td>\n",
       "    </tr>\n",
       "  </tbody>\n",
       "</table>\n",
       "<p>17474 rows × 2 columns</p>\n",
       "</div>"
      ],
      "text/plain": [
       "      is_ethicity_superior_meaning  \\\n",
       "0                            irrel   \n",
       "1                            irrel   \n",
       "2                            irrel   \n",
       "3                            irrel   \n",
       "4                            irrel   \n",
       "...                            ...   \n",
       "17469                        irrel   \n",
       "17470                        irrel   \n",
       "17471                        irrel   \n",
       "17472                        irrel   \n",
       "17473                        irrel   \n",
       "\n",
       "                                               code_text  \n",
       "0      тибетец музыка китая – одна из древнейших в ми...  \n",
       "1      тибетец [[id9183485|юрий], в число 55 национал...  \n",
       "2      тибетец русофоб?! пфффф.. <br/> милок, ты слиш...  \n",
       "3      тибетец узбекистан и иран - унитарные, и со ст...  \n",
       "4      монгол музыка китая – одна из древнейших в мир...  \n",
       "...                                                  ...  \n",
       "17469  ливиец статья интересная))но она такая же бесп...  \n",
       "17470  киприот [[id200150463|руслан], ну жители велик...  \n",
       "17471  саудовец дзидек , жид не национальность , а ми...  \n",
       "17472  малаец сань, когда эти долбаные ящики передали...  \n",
       "17473  бербер re: sgtpepper, ( а кромк авицеены — что...  \n",
       "\n",
       "[17474 rows x 2 columns]"
      ]
     },
     "execution_count": 6,
     "metadata": {},
     "output_type": "execute_result"
    }
   ],
   "source": [
    "df1"
   ]
  },
  {
   "cell_type": "code",
   "execution_count": 7,
   "id": "0cfa20c4",
   "metadata": {},
   "outputs": [],
   "source": [
    "# уберем самый большой класс\n",
    "irrel_df= df1[df1[\"is_ethicity_superior_meaning\"] == \"irrel\"]\n",
    "high_df= df1[df1[\"is_ethicity_superior_meaning\"] == \"high\"]\n",
    "low_df= df1[df1[\"is_ethicity_superior_meaning\"] == \"low\"]"
   ]
  },
  {
   "cell_type": "code",
   "execution_count": 8,
   "id": "48d691cb",
   "metadata": {},
   "outputs": [
    {
     "name": "stdout",
     "output_type": "stream",
     "text": [
      "(2123, 2)\n"
     ]
    }
   ],
   "source": [
    "new_data = pd.concat([high_df, low_df])\n",
    "print(new_data.shape)"
   ]
  },
  {
   "cell_type": "code",
   "execution_count": 9,
   "id": "7dfac484",
   "metadata": {},
   "outputs": [
    {
     "name": "stdout",
     "output_type": "stream",
     "text": [
      "['is_ethicity_superior_meaning', 'code_text']\n"
     ]
    },
    {
     "data": {
      "text/plain": [
       "(2123, 2)"
      ]
     },
     "execution_count": 9,
     "metadata": {},
     "output_type": "execute_result"
    }
   ],
   "source": [
    "# теперь сделаем перемешивание и востановление индекса\n",
    "from sklearn.utils import shuffle\n",
    "shuf_data = shuffle(new_data)\n",
    "print(list(shuf_data))\n",
    "shuf_data.shape"
   ]
  },
  {
   "cell_type": "code",
   "execution_count": 10,
   "id": "3d665515",
   "metadata": {},
   "outputs": [],
   "source": [
    "# востановим индексы\n",
    "shuf_data.index = np.arange(len(shuf_data))"
   ]
  },
  {
   "cell_type": "code",
   "execution_count": 98,
   "id": "ab35e1e3",
   "metadata": {},
   "outputs": [
    {
     "name": "stdout",
     "output_type": "stream",
     "text": [
      "high     545\n",
      "low     1578\n",
      "Name: is_ethicity_superior_meaning, dtype: int64\n"
     ]
    },
    {
     "data": {
      "text/plain": [
       "<AxesSubplot:>"
      ]
     },
     "execution_count": 98,
     "metadata": {},
     "output_type": "execute_result"
    },
    {
     "data": {
      "image/png": "[encoded data removed]",
      "text/plain": [
       "<Figure size 432x288 with 1 Axes>"
      ]
     },
     "metadata": {
      "needs_background": "light"
     },
     "output_type": "display_data"
    }
   ],
   "source": [
    "# давайте посмотрим распределение оценок\n",
    "import matplotlib.pyplot as plt\n",
    "%matplotlib inline\n",
    "# value_counts () - a command that allows you to calculate the number of unique values\n",
    "vc = shuf_data['is_ethicity_superior_meaning'].value_counts()\n",
    "vc = vc.sort_index()\n",
    "print(vc)\n",
    "vc.plot(kind='bar')"
   ]
  },
  {
   "cell_type": "code",
   "execution_count": 11,
   "id": "6ddca770",
   "metadata": {},
   "outputs": [],
   "source": [
    "df1=shuf_data"
   ]
  },
  {
   "cell_type": "code",
   "execution_count": 100,
   "id": "6b495201",
   "metadata": {},
   "outputs": [],
   "source": [
    "# Теперь, для того что бы подать документы и лейблы в нейронную сеть\n",
    "# нужно сделать небольшой препроцессинг\n",
    "# 1. нужно токенезировать\n",
    "# 2. преобразовать токены в набор нулей и единиц"
   ]
  },
  {
   "cell_type": "code",
   "execution_count": 174,
   "id": "ef58d199",
   "metadata": {},
   "outputs": [],
   "source": [
    "# проведем токенизацию с помощью keras\n",
    "from keras.preprocessing.text import Tokenizer\n",
    "t = Tokenizer()\n",
    "t.fit_on_texts(df1['code_text'])"
   ]
  },
  {
   "cell_type": "code",
   "execution_count": 175,
   "id": "ad11d963",
   "metadata": {},
   "outputs": [
    {
     "name": "stdout",
     "output_type": "stream",
     "text": [
      "[[0. 4. 0. ... 0. 0. 0.]\n",
      " [0. 4. 0. ... 0. 0. 0.]\n",
      " [0. 4. 0. ... 0. 0. 0.]\n",
      " ...\n",
      " [0. 2. 1. ... 0. 0. 0.]\n",
      " [0. 2. 1. ... 0. 0. 0.]\n",
      " [0. 2. 4. ... 1. 1. 1.]]\n"
     ]
    }
   ],
   "source": [
    "# кодируем документы в нули и единицы\n",
    "encoded_docs = t.texts_to_matrix(df1['code_text'], mode='count')\n",
    "print(encoded_docs)\n",
    "# Такие документы можно подавать на вход сети"
   ]
  },
  {
   "cell_type": "code",
   "execution_count": 176,
   "id": "699d8ee1",
   "metadata": {},
   "outputs": [
    {
     "name": "stdout",
     "output_type": "stream",
     "text": [
      "(2123, 22687)\n"
     ]
    }
   ],
   "source": [
    "# размер матрицы\n",
    "print(encoded_docs.shape)\n",
    "num_doc, num_words = encoded_docs.shape"
   ]
  },
  {
   "cell_type": "code",
   "execution_count": 188,
   "id": "e64347c0",
   "metadata": {},
   "outputs": [],
   "source": [
    "# досемплирования датасета\n",
    "#объединим препроцеснутые тексты и лейблы\n",
    "result = pd.concat([pd.DataFrame(encoded_docs), df1['is_ethicity_superior_meaning']], axis=1)\n",
    "#result.shape\n",
    "high_doc_df= result[result[\"is_ethicity_superior_meaning\"] == \"high\"]\n",
    "low_doc_df= result[result[\"is_ethicity_superior_meaning\"] == \"low\"]"
   ]
  },
  {
   "cell_type": "code",
   "execution_count": 196,
   "id": "935c97e3",
   "metadata": {},
   "outputs": [
    {
     "name": "stdout",
     "output_type": "stream",
     "text": [
      "low    1578\n",
      "Name: is_ethicity_superior_meaning, dtype: int64\n"
     ]
    }
   ],
   "source": [
    "vc = low_doc_df['is_ethicity_superior_meaning'].value_counts()\n",
    "vc = vc.sort_index()\n",
    "print(vc)"
   ]
  },
  {
   "cell_type": "code",
   "execution_count": 197,
   "id": "e5976da9",
   "metadata": {},
   "outputs": [
    {
     "name": "stdout",
     "output_type": "stream",
     "text": [
      "До сэмплирования (545, 22688)\n",
      "после сэмплирования  (1600, 22688)\n"
     ]
    }
   ],
   "source": [
    "# теперь произведем досемплирование маленького класса\n",
    "from sklearn.utils import resample\n",
    "print('До сэмплирования', high_doc_df.shape)\n",
    "high_upsample = resample(high_doc_df, replace=True, n_samples=1600,  random_state=42)\n",
    "print('после сэмплирования ', high_upsample.shape)"
   ]
  },
  {
   "cell_type": "code",
   "execution_count": 198,
   "id": "8a000fc6",
   "metadata": {},
   "outputs": [
    {
     "data": {
      "text/plain": [
       "(3178, 22688)"
      ]
     },
     "execution_count": 198,
     "metadata": {},
     "output_type": "execute_result"
    }
   ],
   "source": [
    "# теперь объединяем два ккласса и потом делаем перемешивание\n",
    "final_df = pd.concat([low_doc_df, high_upsample])\n",
    "final_df.shape"
   ]
  },
  {
   "cell_type": "code",
   "execution_count": 199,
   "id": "f1eeb074",
   "metadata": {},
   "outputs": [
    {
     "name": "stdout",
     "output_type": "stream",
     "text": [
      "high    1600\n",
      "low     1578\n",
      "Name: is_ethicity_superior_meaning, dtype: int64\n"
     ]
    }
   ],
   "source": [
    "vc = final_df['is_ethicity_superior_meaning'].value_counts()\n",
    "vc = vc.sort_index()\n",
    "print(vc)"
   ]
  },
  {
   "cell_type": "code",
   "execution_count": 200,
   "id": "c33e2f71",
   "metadata": {},
   "outputs": [
    {
     "data": {
      "text/html": [
       "<div>\n",
       "<style scoped>\n",
       "    .dataframe tbody tr th:only-of-type {\n",
       "        vertical-align: middle;\n",
       "    }\n",
       "\n",
       "    .dataframe tbody tr th {\n",
       "        vertical-align: top;\n",
       "    }\n",
       "\n",
       "    .dataframe thead th {\n",
       "        text-align: right;\n",
       "    }\n",
       "</style>\n",
       "<table border=\"1\" class=\"dataframe\">\n",
       "  <thead>\n",
       "    <tr style=\"text-align: right;\">\n",
       "      <th></th>\n",
       "      <th>0</th>\n",
       "      <th>1</th>\n",
       "      <th>2</th>\n",
       "      <th>3</th>\n",
       "      <th>4</th>\n",
       "      <th>5</th>\n",
       "      <th>6</th>\n",
       "      <th>7</th>\n",
       "      <th>8</th>\n",
       "      <th>9</th>\n",
       "      <th>...</th>\n",
       "      <th>22678</th>\n",
       "      <th>22679</th>\n",
       "      <th>22680</th>\n",
       "      <th>22681</th>\n",
       "      <th>22682</th>\n",
       "      <th>22683</th>\n",
       "      <th>22684</th>\n",
       "      <th>22685</th>\n",
       "      <th>22686</th>\n",
       "      <th>is_ethicity_superior_meaning</th>\n",
       "    </tr>\n",
       "  </thead>\n",
       "  <tbody>\n",
       "    <tr>\n",
       "      <th>0</th>\n",
       "      <td>0.0</td>\n",
       "      <td>4.0</td>\n",
       "      <td>0.0</td>\n",
       "      <td>0.0</td>\n",
       "      <td>1.0</td>\n",
       "      <td>0.0</td>\n",
       "      <td>0.0</td>\n",
       "      <td>0.0</td>\n",
       "      <td>1.0</td>\n",
       "      <td>0.0</td>\n",
       "      <td>...</td>\n",
       "      <td>0.0</td>\n",
       "      <td>0.0</td>\n",
       "      <td>0.0</td>\n",
       "      <td>0.0</td>\n",
       "      <td>0.0</td>\n",
       "      <td>0.0</td>\n",
       "      <td>0.0</td>\n",
       "      <td>0.0</td>\n",
       "      <td>0.0</td>\n",
       "      <td>low</td>\n",
       "    </tr>\n",
       "    <tr>\n",
       "      <th>1</th>\n",
       "      <td>0.0</td>\n",
       "      <td>4.0</td>\n",
       "      <td>0.0</td>\n",
       "      <td>0.0</td>\n",
       "      <td>1.0</td>\n",
       "      <td>0.0</td>\n",
       "      <td>1.0</td>\n",
       "      <td>0.0</td>\n",
       "      <td>0.0</td>\n",
       "      <td>0.0</td>\n",
       "      <td>...</td>\n",
       "      <td>0.0</td>\n",
       "      <td>0.0</td>\n",
       "      <td>0.0</td>\n",
       "      <td>0.0</td>\n",
       "      <td>0.0</td>\n",
       "      <td>0.0</td>\n",
       "      <td>0.0</td>\n",
       "      <td>0.0</td>\n",
       "      <td>0.0</td>\n",
       "      <td>low</td>\n",
       "    </tr>\n",
       "    <tr>\n",
       "      <th>3</th>\n",
       "      <td>0.0</td>\n",
       "      <td>4.0</td>\n",
       "      <td>3.0</td>\n",
       "      <td>0.0</td>\n",
       "      <td>1.0</td>\n",
       "      <td>0.0</td>\n",
       "      <td>2.0</td>\n",
       "      <td>1.0</td>\n",
       "      <td>1.0</td>\n",
       "      <td>1.0</td>\n",
       "      <td>...</td>\n",
       "      <td>0.0</td>\n",
       "      <td>0.0</td>\n",
       "      <td>0.0</td>\n",
       "      <td>0.0</td>\n",
       "      <td>0.0</td>\n",
       "      <td>0.0</td>\n",
       "      <td>0.0</td>\n",
       "      <td>0.0</td>\n",
       "      <td>0.0</td>\n",
       "      <td>low</td>\n",
       "    </tr>\n",
       "    <tr>\n",
       "      <th>4</th>\n",
       "      <td>0.0</td>\n",
       "      <td>2.0</td>\n",
       "      <td>4.0</td>\n",
       "      <td>4.0</td>\n",
       "      <td>2.0</td>\n",
       "      <td>1.0</td>\n",
       "      <td>2.0</td>\n",
       "      <td>0.0</td>\n",
       "      <td>0.0</td>\n",
       "      <td>1.0</td>\n",
       "      <td>...</td>\n",
       "      <td>0.0</td>\n",
       "      <td>0.0</td>\n",
       "      <td>0.0</td>\n",
       "      <td>0.0</td>\n",
       "      <td>0.0</td>\n",
       "      <td>0.0</td>\n",
       "      <td>0.0</td>\n",
       "      <td>0.0</td>\n",
       "      <td>0.0</td>\n",
       "      <td>low</td>\n",
       "    </tr>\n",
       "    <tr>\n",
       "      <th>5</th>\n",
       "      <td>0.0</td>\n",
       "      <td>2.0</td>\n",
       "      <td>4.0</td>\n",
       "      <td>1.0</td>\n",
       "      <td>2.0</td>\n",
       "      <td>8.0</td>\n",
       "      <td>1.0</td>\n",
       "      <td>0.0</td>\n",
       "      <td>1.0</td>\n",
       "      <td>5.0</td>\n",
       "      <td>...</td>\n",
       "      <td>0.0</td>\n",
       "      <td>0.0</td>\n",
       "      <td>0.0</td>\n",
       "      <td>0.0</td>\n",
       "      <td>0.0</td>\n",
       "      <td>0.0</td>\n",
       "      <td>0.0</td>\n",
       "      <td>0.0</td>\n",
       "      <td>0.0</td>\n",
       "      <td>low</td>\n",
       "    </tr>\n",
       "    <tr>\n",
       "      <th>...</th>\n",
       "      <td>...</td>\n",
       "      <td>...</td>\n",
       "      <td>...</td>\n",
       "      <td>...</td>\n",
       "      <td>...</td>\n",
       "      <td>...</td>\n",
       "      <td>...</td>\n",
       "      <td>...</td>\n",
       "      <td>...</td>\n",
       "      <td>...</td>\n",
       "      <td>...</td>\n",
       "      <td>...</td>\n",
       "      <td>...</td>\n",
       "      <td>...</td>\n",
       "      <td>...</td>\n",
       "      <td>...</td>\n",
       "      <td>...</td>\n",
       "      <td>...</td>\n",
       "      <td>...</td>\n",
       "      <td>...</td>\n",
       "      <td>...</td>\n",
       "    </tr>\n",
       "    <tr>\n",
       "      <th>1274</th>\n",
       "      <td>0.0</td>\n",
       "      <td>2.0</td>\n",
       "      <td>1.0</td>\n",
       "      <td>0.0</td>\n",
       "      <td>0.0</td>\n",
       "      <td>0.0</td>\n",
       "      <td>0.0</td>\n",
       "      <td>0.0</td>\n",
       "      <td>0.0</td>\n",
       "      <td>1.0</td>\n",
       "      <td>...</td>\n",
       "      <td>0.0</td>\n",
       "      <td>0.0</td>\n",
       "      <td>0.0</td>\n",
       "      <td>0.0</td>\n",
       "      <td>0.0</td>\n",
       "      <td>0.0</td>\n",
       "      <td>0.0</td>\n",
       "      <td>0.0</td>\n",
       "      <td>0.0</td>\n",
       "      <td>high</td>\n",
       "    </tr>\n",
       "    <tr>\n",
       "      <th>1461</th>\n",
       "      <td>0.0</td>\n",
       "      <td>2.0</td>\n",
       "      <td>3.0</td>\n",
       "      <td>4.0</td>\n",
       "      <td>0.0</td>\n",
       "      <td>0.0</td>\n",
       "      <td>0.0</td>\n",
       "      <td>0.0</td>\n",
       "      <td>0.0</td>\n",
       "      <td>0.0</td>\n",
       "      <td>...</td>\n",
       "      <td>0.0</td>\n",
       "      <td>0.0</td>\n",
       "      <td>0.0</td>\n",
       "      <td>0.0</td>\n",
       "      <td>0.0</td>\n",
       "      <td>0.0</td>\n",
       "      <td>0.0</td>\n",
       "      <td>0.0</td>\n",
       "      <td>0.0</td>\n",
       "      <td>high</td>\n",
       "    </tr>\n",
       "    <tr>\n",
       "      <th>1946</th>\n",
       "      <td>0.0</td>\n",
       "      <td>4.0</td>\n",
       "      <td>0.0</td>\n",
       "      <td>3.0</td>\n",
       "      <td>4.0</td>\n",
       "      <td>0.0</td>\n",
       "      <td>0.0</td>\n",
       "      <td>3.0</td>\n",
       "      <td>0.0</td>\n",
       "      <td>0.0</td>\n",
       "      <td>...</td>\n",
       "      <td>0.0</td>\n",
       "      <td>0.0</td>\n",
       "      <td>0.0</td>\n",
       "      <td>0.0</td>\n",
       "      <td>0.0</td>\n",
       "      <td>0.0</td>\n",
       "      <td>0.0</td>\n",
       "      <td>0.0</td>\n",
       "      <td>0.0</td>\n",
       "      <td>high</td>\n",
       "    </tr>\n",
       "    <tr>\n",
       "      <th>2093</th>\n",
       "      <td>0.0</td>\n",
       "      <td>2.0</td>\n",
       "      <td>0.0</td>\n",
       "      <td>0.0</td>\n",
       "      <td>2.0</td>\n",
       "      <td>0.0</td>\n",
       "      <td>0.0</td>\n",
       "      <td>0.0</td>\n",
       "      <td>0.0</td>\n",
       "      <td>0.0</td>\n",
       "      <td>...</td>\n",
       "      <td>0.0</td>\n",
       "      <td>0.0</td>\n",
       "      <td>0.0</td>\n",
       "      <td>0.0</td>\n",
       "      <td>0.0</td>\n",
       "      <td>0.0</td>\n",
       "      <td>0.0</td>\n",
       "      <td>0.0</td>\n",
       "      <td>0.0</td>\n",
       "      <td>high</td>\n",
       "    </tr>\n",
       "    <tr>\n",
       "      <th>613</th>\n",
       "      <td>0.0</td>\n",
       "      <td>4.0</td>\n",
       "      <td>1.0</td>\n",
       "      <td>0.0</td>\n",
       "      <td>0.0</td>\n",
       "      <td>0.0</td>\n",
       "      <td>1.0</td>\n",
       "      <td>0.0</td>\n",
       "      <td>1.0</td>\n",
       "      <td>0.0</td>\n",
       "      <td>...</td>\n",
       "      <td>0.0</td>\n",
       "      <td>0.0</td>\n",
       "      <td>0.0</td>\n",
       "      <td>0.0</td>\n",
       "      <td>0.0</td>\n",
       "      <td>0.0</td>\n",
       "      <td>0.0</td>\n",
       "      <td>0.0</td>\n",
       "      <td>0.0</td>\n",
       "      <td>high</td>\n",
       "    </tr>\n",
       "  </tbody>\n",
       "</table>\n",
       "<p>3178 rows × 22688 columns</p>\n",
       "</div>"
      ],
      "text/plain": [
       "        0    1    2    3    4    5    6    7    8    9  ...  22678  22679  \\\n",
       "0     0.0  4.0  0.0  0.0  1.0  0.0  0.0  0.0  1.0  0.0  ...    0.0    0.0   \n",
       "1     0.0  4.0  0.0  0.0  1.0  0.0  1.0  0.0  0.0  0.0  ...    0.0    0.0   \n",
       "3     0.0  4.0  3.0  0.0  1.0  0.0  2.0  1.0  1.0  1.0  ...    0.0    0.0   \n",
       "4     0.0  2.0  4.0  4.0  2.0  1.0  2.0  0.0  0.0  1.0  ...    0.0    0.0   \n",
       "5     0.0  2.0  4.0  1.0  2.0  8.0  1.0  0.0  1.0  5.0  ...    0.0    0.0   \n",
       "...   ...  ...  ...  ...  ...  ...  ...  ...  ...  ...  ...    ...    ...   \n",
       "1274  0.0  2.0  1.0  0.0  0.0  0.0  0.0  0.0  0.0  1.0  ...    0.0    0.0   \n",
       "1461  0.0  2.0  3.0  4.0  0.0  0.0  0.0  0.0  0.0  0.0  ...    0.0    0.0   \n",
       "1946  0.0  4.0  0.0  3.0  4.0  0.0  0.0  3.0  0.0  0.0  ...    0.0    0.0   \n",
       "2093  0.0  2.0  0.0  0.0  2.0  0.0  0.0  0.0  0.0  0.0  ...    0.0    0.0   \n",
       "613   0.0  4.0  1.0  0.0  0.0  0.0  1.0  0.0  1.0  0.0  ...    0.0    0.0   \n",
       "\n",
       "      22680  22681  22682  22683  22684  22685  22686  \\\n",
       "0       0.0    0.0    0.0    0.0    0.0    0.0    0.0   \n",
       "1       0.0    0.0    0.0    0.0    0.0    0.0    0.0   \n",
       "3       0.0    0.0    0.0    0.0    0.0    0.0    0.0   \n",
       "4       0.0    0.0    0.0    0.0    0.0    0.0    0.0   \n",
       "5       0.0    0.0    0.0    0.0    0.0    0.0    0.0   \n",
       "...     ...    ...    ...    ...    ...    ...    ...   \n",
       "1274    0.0    0.0    0.0    0.0    0.0    0.0    0.0   \n",
       "1461    0.0    0.0    0.0    0.0    0.0    0.0    0.0   \n",
       "1946    0.0    0.0    0.0    0.0    0.0    0.0    0.0   \n",
       "2093    0.0    0.0    0.0    0.0    0.0    0.0    0.0   \n",
       "613     0.0    0.0    0.0    0.0    0.0    0.0    0.0   \n",
       "\n",
       "      is_ethicity_superior_meaning  \n",
       "0                              low  \n",
       "1                              low  \n",
       "3                              low  \n",
       "4                              low  \n",
       "5                              low  \n",
       "...                            ...  \n",
       "1274                          high  \n",
       "1461                          high  \n",
       "1946                          high  \n",
       "2093                          high  \n",
       "613                           high  \n",
       "\n",
       "[3178 rows x 22688 columns]"
      ]
     },
     "execution_count": 200,
     "metadata": {},
     "output_type": "execute_result"
    }
   ],
   "source": [
    "final_df"
   ]
  },
  {
   "cell_type": "code",
   "execution_count": 201,
   "id": "9cf69d4f",
   "metadata": {},
   "outputs": [
    {
     "data": {
      "text/plain": [
       "(3178, 22688)"
      ]
     },
     "execution_count": 201,
     "metadata": {},
     "output_type": "execute_result"
    }
   ],
   "source": [
    "# теперь сделаем перемешивание и востановление индекса\n",
    "from sklearn.utils import shuffle\n",
    "shuf_data = shuffle(final_df)\n",
    "# востановим индексы\n",
    "shuf_data.index = np.arange(len(shuf_data))\n",
    "shuf_data.shape"
   ]
  },
  {
   "cell_type": "code",
   "execution_count": 202,
   "id": "32606cb5",
   "metadata": {},
   "outputs": [
    {
     "name": "stdout",
     "output_type": "stream",
     "text": [
      "(3178,)\n",
      "(3178, 22687)\n"
     ]
    }
   ],
   "source": [
    "my_label = shuf_data['is_ethicity_superior_meaning']\n",
    "del shuf_data['is_ethicity_superior_meaning']   \n",
    "print(my_label.shape)\n",
    "print(shuf_data.shape)"
   ]
  },
  {
   "cell_type": "code",
   "execution_count": 203,
   "id": "cbd9e658",
   "metadata": {},
   "outputs": [
    {
     "name": "stdout",
     "output_type": "stream",
     "text": [
      "x_train:  (2542, 22687)\n",
      "x_valid:  (636, 22687)\n",
      "------------------------------\n",
      "y_train:  (2542,)\n",
      "y_valid:  (636,)\n"
     ]
    }
   ],
   "source": [
    "# Разделим наш датасет на тренировочную и тестовую часть\n",
    "from sklearn.model_selection import train_test_split\n",
    "# делим даанные на тестовую и тренировочную коллекцию\n",
    "#x_train, x_valid, y_train, y_valid = train_test_split(final_df, my_label, test_size=0.2, stratify=df1['is_ethicity_superior_meaning'])\n",
    "x_train, x_valid, y_train, y_valid = train_test_split(shuf_data, my_label, test_size=0.2)\n",
    "\n",
    "print('x_train: ', x_train.shape)\n",
    "print('x_valid: ', x_valid.shape)\n",
    "print('------------------------------')\n",
    "print('y_train: ' , y_train.shape)\n",
    "print('y_valid: ' , y_valid.shape)"
   ]
  },
  {
   "cell_type": "code",
   "execution_count": 204,
   "id": "68bfbc9d",
   "metadata": {},
   "outputs": [
    {
     "data": {
      "text/html": [
       "<div>\n",
       "<style scoped>\n",
       "    .dataframe tbody tr th:only-of-type {\n",
       "        vertical-align: middle;\n",
       "    }\n",
       "\n",
       "    .dataframe tbody tr th {\n",
       "        vertical-align: top;\n",
       "    }\n",
       "\n",
       "    .dataframe thead th {\n",
       "        text-align: right;\n",
       "    }\n",
       "</style>\n",
       "<table border=\"1\" class=\"dataframe\">\n",
       "  <thead>\n",
       "    <tr style=\"text-align: right;\">\n",
       "      <th></th>\n",
       "      <th>high</th>\n",
       "      <th>low</th>\n",
       "    </tr>\n",
       "  </thead>\n",
       "  <tbody>\n",
       "    <tr>\n",
       "      <th>1910</th>\n",
       "      <td>1</td>\n",
       "      <td>0</td>\n",
       "    </tr>\n",
       "    <tr>\n",
       "      <th>504</th>\n",
       "      <td>1</td>\n",
       "      <td>0</td>\n",
       "    </tr>\n",
       "    <tr>\n",
       "      <th>2617</th>\n",
       "      <td>1</td>\n",
       "      <td>0</td>\n",
       "    </tr>\n",
       "    <tr>\n",
       "      <th>823</th>\n",
       "      <td>1</td>\n",
       "      <td>0</td>\n",
       "    </tr>\n",
       "    <tr>\n",
       "      <th>305</th>\n",
       "      <td>1</td>\n",
       "      <td>0</td>\n",
       "    </tr>\n",
       "    <tr>\n",
       "      <th>...</th>\n",
       "      <td>...</td>\n",
       "      <td>...</td>\n",
       "    </tr>\n",
       "    <tr>\n",
       "      <th>2118</th>\n",
       "      <td>1</td>\n",
       "      <td>0</td>\n",
       "    </tr>\n",
       "    <tr>\n",
       "      <th>616</th>\n",
       "      <td>0</td>\n",
       "      <td>1</td>\n",
       "    </tr>\n",
       "    <tr>\n",
       "      <th>3169</th>\n",
       "      <td>0</td>\n",
       "      <td>1</td>\n",
       "    </tr>\n",
       "    <tr>\n",
       "      <th>2331</th>\n",
       "      <td>0</td>\n",
       "      <td>1</td>\n",
       "    </tr>\n",
       "    <tr>\n",
       "      <th>851</th>\n",
       "      <td>1</td>\n",
       "      <td>0</td>\n",
       "    </tr>\n",
       "  </tbody>\n",
       "</table>\n",
       "<p>2542 rows × 2 columns</p>\n",
       "</div>"
      ],
      "text/plain": [
       "      high  low\n",
       "1910     1    0\n",
       "504      1    0\n",
       "2617     1    0\n",
       "823      1    0\n",
       "305      1    0\n",
       "...    ...  ...\n",
       "2118     1    0\n",
       "616      0    1\n",
       "3169     0    1\n",
       "2331     0    1\n",
       "851      1    0\n",
       "\n",
       "[2542 rows x 2 columns]"
      ]
     },
     "execution_count": 204,
     "metadata": {},
     "output_type": "execute_result"
    }
   ],
   "source": [
    "# теперь сделаем препоцессинг лейблов\n",
    "y_dummy_train = pd.get_dummies(y_train)\n",
    "y_dummy_train"
   ]
  },
  {
   "cell_type": "code",
   "execution_count": 205,
   "id": "c6c36094",
   "metadata": {},
   "outputs": [
    {
     "data": {
      "text/html": [
       "<div>\n",
       "<style scoped>\n",
       "    .dataframe tbody tr th:only-of-type {\n",
       "        vertical-align: middle;\n",
       "    }\n",
       "\n",
       "    .dataframe tbody tr th {\n",
       "        vertical-align: top;\n",
       "    }\n",
       "\n",
       "    .dataframe thead th {\n",
       "        text-align: right;\n",
       "    }\n",
       "</style>\n",
       "<table border=\"1\" class=\"dataframe\">\n",
       "  <thead>\n",
       "    <tr style=\"text-align: right;\">\n",
       "      <th></th>\n",
       "      <th>high</th>\n",
       "      <th>low</th>\n",
       "    </tr>\n",
       "  </thead>\n",
       "  <tbody>\n",
       "    <tr>\n",
       "      <th>1117</th>\n",
       "      <td>1</td>\n",
       "      <td>0</td>\n",
       "    </tr>\n",
       "    <tr>\n",
       "      <th>1566</th>\n",
       "      <td>0</td>\n",
       "      <td>1</td>\n",
       "    </tr>\n",
       "    <tr>\n",
       "      <th>1350</th>\n",
       "      <td>0</td>\n",
       "      <td>1</td>\n",
       "    </tr>\n",
       "    <tr>\n",
       "      <th>2599</th>\n",
       "      <td>0</td>\n",
       "      <td>1</td>\n",
       "    </tr>\n",
       "    <tr>\n",
       "      <th>2129</th>\n",
       "      <td>1</td>\n",
       "      <td>0</td>\n",
       "    </tr>\n",
       "    <tr>\n",
       "      <th>...</th>\n",
       "      <td>...</td>\n",
       "      <td>...</td>\n",
       "    </tr>\n",
       "    <tr>\n",
       "      <th>2808</th>\n",
       "      <td>1</td>\n",
       "      <td>0</td>\n",
       "    </tr>\n",
       "    <tr>\n",
       "      <th>965</th>\n",
       "      <td>1</td>\n",
       "      <td>0</td>\n",
       "    </tr>\n",
       "    <tr>\n",
       "      <th>1205</th>\n",
       "      <td>1</td>\n",
       "      <td>0</td>\n",
       "    </tr>\n",
       "    <tr>\n",
       "      <th>1118</th>\n",
       "      <td>1</td>\n",
       "      <td>0</td>\n",
       "    </tr>\n",
       "    <tr>\n",
       "      <th>1377</th>\n",
       "      <td>0</td>\n",
       "      <td>1</td>\n",
       "    </tr>\n",
       "  </tbody>\n",
       "</table>\n",
       "<p>636 rows × 2 columns</p>\n",
       "</div>"
      ],
      "text/plain": [
       "      high  low\n",
       "1117     1    0\n",
       "1566     0    1\n",
       "1350     0    1\n",
       "2599     0    1\n",
       "2129     1    0\n",
       "...    ...  ...\n",
       "2808     1    0\n",
       "965      1    0\n",
       "1205     1    0\n",
       "1118     1    0\n",
       "1377     0    1\n",
       "\n",
       "[636 rows x 2 columns]"
      ]
     },
     "execution_count": 205,
     "metadata": {},
     "output_type": "execute_result"
    }
   ],
   "source": [
    "y_dummy_valid = pd.get_dummies(y_valid)\n",
    "y_dummy_valid"
   ]
  },
  {
   "cell_type": "markdown",
   "id": "2a433d8f",
   "metadata": {},
   "source": [
    "# простая сеть"
   ]
  },
  {
   "cell_type": "code",
   "execution_count": 143,
   "id": "696f0323",
   "metadata": {},
   "outputs": [
    {
     "name": "stdout",
     "output_type": "stream",
     "text": [
      "Model: \"sequential_15\"\n",
      "_________________________________________________________________\n",
      " Layer (type)                Output Shape              Param #   \n",
      "=================================================================\n",
      " dense_51 (Dense)            (None, 64)                1452032   \n",
      "                                                                 \n",
      " dense_52 (Dense)            (None, 64)                4160      \n",
      "                                                                 \n",
      " dense_53 (Dense)            (None, 64)                4160      \n",
      "                                                                 \n",
      " dropout_12 (Dropout)        (None, 64)                0         \n",
      "                                                                 \n",
      " dense_54 (Dense)            (None, 2)                 130       \n",
      "                                                                 \n",
      "=================================================================\n",
      "Total params: 1,460,482\n",
      "Trainable params: 1,460,482\n",
      "Non-trainable params: 0\n",
      "_________________________________________________________________\n"
     ]
    }
   ],
   "source": [
    "# создание сети\n",
    "from keras import models\n",
    "from keras import layers\n",
    "\n",
    "model = models.Sequential()\n",
    "\n",
    "model.add(layers.Dense(64, activation='relu', input_shape=(22687,)))\n",
    "model.add(layers.Dense(64, activation='relu'))\n",
    "model.add(layers.Dense(64, activation='relu'))\n",
    "# Dropout - дает возможно забывать сетью часть своих нейронов\n",
    "model.add(layers.Dropout(0.1))\n",
    "model.add(layers.Dense(2, activation='softmax'))\n",
    "model.compile(optimizer='rmsprop', loss='categorical_crossentropy', metrics=['accuracy'])\n",
    "\n",
    "model.summary()"
   ]
  },
  {
   "cell_type": "markdown",
   "id": "002d9e49",
   "metadata": {},
   "source": [
    "# RNN сеть"
   ]
  },
  {
   "cell_type": "code",
   "execution_count": 148,
   "id": "bb237db5",
   "metadata": {},
   "outputs": [
    {
     "name": "stdout",
     "output_type": "stream",
     "text": [
      "Model: \"sequential_8\"\n",
      "_________________________________________________________________\n",
      " Layer (type)                Output Shape              Param #   \n",
      "=================================================================\n",
      " dense_25 (Dense)            (None, 64)                1452032   \n",
      "                                                                 \n",
      " reshape (Reshape)           (None, 1, 64)             0         \n",
      "                                                                 \n",
      " simple_rnn (SimpleRNN)      (None, 64)                8256      \n",
      "                                                                 \n",
      " dense_26 (Dense)            (None, 64)                4160      \n",
      "                                                                 \n",
      " dropout_8 (Dropout)         (None, 64)                0         \n",
      "                                                                 \n",
      " dense_27 (Dense)            (None, 64)                4160      \n",
      "                                                                 \n",
      " dense_28 (Dense)            (None, 2)                 130       \n",
      "                                                                 \n",
      "=================================================================\n",
      "Total params: 1,468,738\n",
      "Trainable params: 1,468,738\n",
      "Non-trainable params: 0\n",
      "_________________________________________________________________\n"
     ]
    }
   ],
   "source": [
    "# построение модели\n",
    "from keras.models import Sequential\n",
    "from keras.layers import Flatten, Dense, Embedding\n",
    "from keras.layers import SimpleRNN, Reshape\n",
    "from keras import layers\n",
    "\n",
    "model = Sequential()\n",
    "\n",
    "model.add(layers.Dense(64, activation='relu', input_shape=(22687,)))\n",
    "model.add(Reshape((1, 64)))\n",
    "model.add(SimpleRNN(64))\n",
    "model.add(Dense(64, activation='relu'))\n",
    "# Dropout - дает возможно забывать сетью часть своих нейронов\n",
    "model.add(layers.Dropout(0.1))\n",
    "model.add(Dense(64, activation='relu'))\n",
    "model.add(Dense(2, activation='sigmoid'))\n",
    "model.summary()"
   ]
  },
  {
   "cell_type": "markdown",
   "id": "812760c6",
   "metadata": {},
   "source": [
    "# LST-GRU сеть"
   ]
  },
  {
   "cell_type": "code",
   "execution_count": 206,
   "id": "6cff4a5a",
   "metadata": {},
   "outputs": [
    {
     "name": "stdout",
     "output_type": "stream",
     "text": [
      "Model: \"sequential_16\"\n",
      "_________________________________________________________________\n",
      " Layer (type)                Output Shape              Param #   \n",
      "=================================================================\n",
      " dense_55 (Dense)            (None, 64)                1452032   \n",
      "                                                                 \n",
      " reshape_14 (Reshape)        (None, 1, 64)             0         \n",
      "                                                                 \n",
      " gru_8 (GRU)                 (None, 64)                24960     \n",
      "                                                                 \n",
      " dense_56 (Dense)            (None, 64)                4160      \n",
      "                                                                 \n",
      " dropout_13 (Dropout)        (None, 64)                0         \n",
      "                                                                 \n",
      " dense_57 (Dense)            (None, 64)                4160      \n",
      "                                                                 \n",
      " dense_58 (Dense)            (None, 2)                 130       \n",
      "                                                                 \n",
      "=================================================================\n",
      "Total params: 1,485,442\n",
      "Trainable params: 1,485,442\n",
      "Non-trainable params: 0\n",
      "_________________________________________________________________\n"
     ]
    }
   ],
   "source": [
    "# построение модели\n",
    "from keras.models import Sequential\n",
    "from keras.layers import Flatten, Dense, Embedding\n",
    "from keras.layers import SimpleRNN, Reshape\n",
    "from keras import layers\n",
    "from keras.layers import LSTM\n",
    "\n",
    "model = Sequential()\n",
    "\n",
    "model.add(layers.Dense(64, activation='ELU', input_shape=(22687,)))\n",
    "model.add(Reshape((1, 64)))\n",
    "\n",
    "#model.add(LSTM(64))\n",
    "#model.add(Reshape((1, 64)))\n",
    "model.add(layers.GRU(64, dropout=0.1, recurrent_dropout=0.1, input_shape=(None,)))\n",
    "model.add(Dense(64, activation='ELU'))\n",
    "# Dropout - дает возможно забывать сетью часть своих нейронов\n",
    "model.add(layers.Dropout(0.1))\n",
    "model.add(Dense(64, activation='ELU'))\n",
    "model.add(Dense(2, activation='sigmoid'))\n",
    "model.summary()"
   ]
  },
  {
   "cell_type": "code",
   "execution_count": 207,
   "id": "b7f1e566",
   "metadata": {},
   "outputs": [],
   "source": [
    "# 2. компиляция сети\n",
    "# теперь нужно скомпелировать нашу сеть\n",
    "# optimizer='rmsprop' - алгоритм обучения сети\n",
    "# loss='categorical_crossentropy'\n",
    "# metrics=['accuracy'] - тип метрики качества\n",
    "# loss='categorical_crossentropy' - функция потерь, которая будет минимизироваться\n",
    "model.compile(optimizer='rmsprop', loss='categorical_crossentropy', metrics=['accuracy'])"
   ]
  },
  {
   "cell_type": "code",
   "execution_count": 208,
   "id": "12c9a59e",
   "metadata": {},
   "outputs": [
    {
     "name": "stdout",
     "output_type": "stream",
     "text": [
      "Epoch 1/25\n",
      "5/5 [==============================] - 3s 194ms/step - loss: 0.6066 - accuracy: 0.6640 - val_loss: 0.4649 - val_accuracy: 0.7956\n",
      "Epoch 2/25\n",
      "5/5 [==============================] - 0s 90ms/step - loss: 0.2775 - accuracy: 0.9138 - val_loss: 0.4113 - val_accuracy: 0.8569\n",
      "Epoch 3/25\n",
      "5/5 [==============================] - 0s 98ms/step - loss: 0.2019 - accuracy: 0.9249 - val_loss: 0.3981 - val_accuracy: 0.8506\n",
      "Epoch 4/25\n",
      "5/5 [==============================] - 0s 95ms/step - loss: 0.1752 - accuracy: 0.9253 - val_loss: 0.4112 - val_accuracy: 0.8585\n",
      "Epoch 5/25\n",
      "5/5 [==============================] - 0s 97ms/step - loss: 0.1588 - accuracy: 0.9264 - val_loss: 0.4088 - val_accuracy: 0.8616\n",
      "Epoch 6/25\n",
      "5/5 [==============================] - 0s 86ms/step - loss: 0.1465 - accuracy: 0.9355 - val_loss: 0.4166 - val_accuracy: 0.8538\n",
      "Epoch 7/25\n",
      "5/5 [==============================] - 0s 84ms/step - loss: 0.1487 - accuracy: 0.9375 - val_loss: 0.3947 - val_accuracy: 0.8569\n",
      "Epoch 8/25\n",
      "5/5 [==============================] - 0s 86ms/step - loss: 0.1375 - accuracy: 0.9398 - val_loss: 0.4182 - val_accuracy: 0.8522\n",
      "Epoch 9/25\n",
      "5/5 [==============================] - 0s 86ms/step - loss: 0.1365 - accuracy: 0.9363 - val_loss: 0.4197 - val_accuracy: 0.8836\n",
      "Epoch 10/25\n",
      "5/5 [==============================] - 0s 86ms/step - loss: 0.1255 - accuracy: 0.9453 - val_loss: 0.4320 - val_accuracy: 0.8726\n",
      "Epoch 11/25\n",
      "5/5 [==============================] - 0s 86ms/step - loss: 0.1195 - accuracy: 0.9473 - val_loss: 0.4582 - val_accuracy: 0.8742\n",
      "Epoch 12/25\n",
      "5/5 [==============================] - 0s 90ms/step - loss: 0.1233 - accuracy: 0.9469 - val_loss: 0.4341 - val_accuracy: 0.8711\n",
      "Epoch 13/25\n",
      "5/5 [==============================] - 0s 88ms/step - loss: 0.1235 - accuracy: 0.9457 - val_loss: 0.4344 - val_accuracy: 0.8742\n",
      "Epoch 14/25\n",
      "5/5 [==============================] - 0s 86ms/step - loss: 0.1036 - accuracy: 0.9555 - val_loss: 0.5052 - val_accuracy: 0.8774\n",
      "Epoch 15/25\n",
      "5/5 [==============================] - 0s 89ms/step - loss: 0.1032 - accuracy: 0.9591 - val_loss: 0.5082 - val_accuracy: 0.8632\n",
      "Epoch 16/25\n",
      "5/5 [==============================] - 0s 95ms/step - loss: 0.1073 - accuracy: 0.9532 - val_loss: 0.4911 - val_accuracy: 0.8758\n",
      "Epoch 17/25\n",
      "5/5 [==============================] - 0s 94ms/step - loss: 0.0976 - accuracy: 0.9607 - val_loss: 0.5362 - val_accuracy: 0.8836\n",
      "Epoch 18/25\n",
      "5/5 [==============================] - 0s 90ms/step - loss: 0.0947 - accuracy: 0.9618 - val_loss: 0.5606 - val_accuracy: 0.8821\n",
      "Epoch 19/25\n",
      "5/5 [==============================] - 0s 90ms/step - loss: 0.0910 - accuracy: 0.9614 - val_loss: 0.5699 - val_accuracy: 0.8836\n",
      "Epoch 20/25\n",
      "5/5 [==============================] - 0s 88ms/step - loss: 0.0934 - accuracy: 0.9583 - val_loss: 0.5482 - val_accuracy: 0.8758\n",
      "Epoch 21/25\n",
      "5/5 [==============================] - 0s 89ms/step - loss: 0.0869 - accuracy: 0.9595 - val_loss: 0.5873 - val_accuracy: 0.8821\n",
      "Epoch 22/25\n",
      "5/5 [==============================] - 0s 88ms/step - loss: 0.0784 - accuracy: 0.9689 - val_loss: 0.6512 - val_accuracy: 0.8805\n",
      "Epoch 23/25\n",
      "5/5 [==============================] - 1s 110ms/step - loss: 0.0831 - accuracy: 0.9666 - val_loss: 0.6209 - val_accuracy: 0.8789\n",
      "Epoch 24/25\n",
      "5/5 [==============================] - 0s 97ms/step - loss: 0.0807 - accuracy: 0.9626 - val_loss: 0.6312 - val_accuracy: 0.8836\n",
      "Epoch 25/25\n",
      "5/5 [==============================] - 0s 94ms/step - loss: 0.0852 - accuracy: 0.9614 - val_loss: 0.6119 - val_accuracy: 0.8852\n"
     ]
    },
    {
     "data": {
      "text/plain": [
       "<keras.callbacks.History at 0x17325b682b0>"
      ]
     },
     "execution_count": 208,
     "metadata": {},
     "output_type": "execute_result"
    }
   ],
   "source": [
    "# 3. обучение сети\n",
    "# запускаем процесс обучения сети\n",
    "# x_train, y_train - датасет на котором обучаем сеть\n",
    "# epochs=9 - число эпох обучения\n",
    "# batch_size=512\n",
    "# validation_data - датасет на котором производится проверка качества обученной модели\n",
    "model.fit(x_train, y_dummy_train, epochs=25, batch_size=512, validation_data=(x_valid, y_dummy_valid))"
   ]
  },
  {
   "cell_type": "code",
   "execution_count": 209,
   "id": "368a6a62",
   "metadata": {},
   "outputs": [
    {
     "name": "stdout",
     "output_type": "stream",
     "text": [
      "20/20 [==============================] - 0s 6ms/step - loss: 0.6119 - accuracy: 0.8852\n"
     ]
    }
   ],
   "source": [
    "# выводим качество работы сети\n",
    "results = model.evaluate(x_valid, y_dummy_valid)"
   ]
  },
  {
   "cell_type": "code",
   "execution_count": 210,
   "id": "8ac65bfc",
   "metadata": {},
   "outputs": [
    {
     "name": "stdout",
     "output_type": "stream",
     "text": [
      "[0.6118736267089844, 0.8852201104164124]\n"
     ]
    }
   ],
   "source": [
    "print(results)"
   ]
  },
  {
   "cell_type": "code",
   "execution_count": 212,
   "id": "aca6bfbe",
   "metadata": {},
   "outputs": [
    {
     "name": "stdout",
     "output_type": "stream",
     "text": [
      "(636, 2)\n"
     ]
    }
   ],
   "source": [
    "# Предсказание\n",
    "predictions = model.predict(x_valid)\n",
    "#  число оценок и размер оценок в предсказании\n",
    "print(predictions.shape)\n",
    "#print(predictions)"
   ]
  },
  {
   "cell_type": "code",
   "execution_count": 213,
   "id": "76d557d4",
   "metadata": {},
   "outputs": [],
   "source": [
    "# Давайте оценим результат предсказания по классам - 2 класса\n",
    "# Для этого преобразуем полученные вероятности по классам в конкретный класс\n",
    "# то есть в качестве итогового класса берется класс с максимальной вероятностью\n",
    "y_preds = np.argmax(predictions, axis=1).tolist()\n",
    "\n",
    "for i in range(len(y_preds)):\n",
    "    if y_preds[i]==1: y_preds[i]='low'\n",
    "    if y_preds[i]==0: y_preds[i]='high'"
   ]
  },
  {
   "cell_type": "code",
   "execution_count": 71,
   "id": "7a6157ac",
   "metadata": {},
   "outputs": [],
   "source": [
    "# Давайте оценим результат предсказания по классам\n",
    "# Для этого преобразуем полученные вероятности по классам в конкретный класс\n",
    "# то есть в качестве итогового класса берется класс с максимальной вероятностью\n",
    "#y_preds = np.argmax(predictions, axis=1).tolist()\n",
    "# 2- positive\n",
    "# 1- neutral\n",
    "# 0- negative\n",
    "#for i in range(len(y_preds)):\n",
    "#    if y_preds[i]==2: y_preds[i]='low'\n",
    "#    if y_preds[i]==1: y_preds[i]='irrel'\n",
    "#    if y_preds[i]==0: y_preds[i]='high'"
   ]
  },
  {
   "cell_type": "code",
   "execution_count": 54,
   "id": "8029fd73",
   "metadata": {},
   "outputs": [],
   "source": [
    "# получили предсказание в терминах классов\n",
    "#y_preds"
   ]
  },
  {
   "cell_type": "code",
   "execution_count": 214,
   "id": "576ae1d6",
   "metadata": {},
   "outputs": [],
   "source": [
    "# также сделаем обратное преобразование лейблов из тестового датасета обратно в классы\n",
    "yy = y_dummy_valid.idxmax(axis=1)"
   ]
  },
  {
   "cell_type": "code",
   "execution_count": 58,
   "id": "9ac62cee",
   "metadata": {},
   "outputs": [],
   "source": [
    "#yy"
   ]
  },
  {
   "cell_type": "code",
   "execution_count": 215,
   "id": "d55ca407",
   "metadata": {},
   "outputs": [
    {
     "name": "stdout",
     "output_type": "stream",
     "text": [
      "              precision    recall  f1-score   support\n",
      "\n",
      "        high       0.92      0.86      0.89       340\n",
      "         low       0.85      0.92      0.88       296\n",
      "\n",
      "    accuracy                           0.89       636\n",
      "   macro avg       0.89      0.89      0.89       636\n",
      "weighted avg       0.89      0.89      0.89       636\n",
      "\n"
     ]
    }
   ],
   "source": [
    "#  Теперь мы можем расчитать качество по каждому классу\n",
    "from sklearn import metrics\n",
    "from sklearn.metrics import classification_report\n",
    "print(metrics.classification_report(y_preds, yy))"
   ]
  },
  {
   "cell_type": "code",
   "execution_count": null,
   "id": "6be3ab8f",
   "metadata": {},
   "outputs": [],
   "source": []
  }
 ],
 "metadata": {
  "kernelspec": {
   "display_name": "Python 3 (ipykernel)",
   "language": "python",
   "name": "python3"
  },
  "language_info": {
   "codemirror_mode": {
    "name": "ipython",
    "version": 3
   },
   "file_extension": ".py",
   "mimetype": "text/x-python",
   "name": "python",
   "nbconvert_exporter": "python",
   "pygments_lexer": "ipython3",
   "version": "3.9.13"
  }
 },
 "nbformat": 4,
 "nbformat_minor": 5
}
