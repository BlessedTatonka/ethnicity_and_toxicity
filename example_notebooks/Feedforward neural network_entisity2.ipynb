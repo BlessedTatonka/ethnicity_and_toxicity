{
 "cells": [
  {
   "cell_type": "code",
   "execution_count": 55,
   "id": "2c8981cc",
   "metadata": {},
   "outputs": [],
   "source": [
    "import numpy as np\n",
    "import pandas as pd"
   ]
  },
  {
   "cell_type": "code",
   "execution_count": 58,
   "id": "2c78a48a",
   "metadata": {},
   "outputs": [
    {
     "data": {
      "text/html": [
       "<div>\n",
       "<style scoped>\n",
       "    .dataframe tbody tr th:only-of-type {\n",
       "        vertical-align: middle;\n",
       "    }\n",
       "\n",
       "    .dataframe tbody tr th {\n",
       "        vertical-align: top;\n",
       "    }\n",
       "\n",
       "    .dataframe thead th {\n",
       "        text-align: right;\n",
       "    }\n",
       "</style>\n",
       "<table border=\"1\" class=\"dataframe\">\n",
       "  <thead>\n",
       "    <tr style=\"text-align: right;\">\n",
       "      <th></th>\n",
       "      <th>Unnamed: 0</th>\n",
       "      <th>document.id</th>\n",
       "      <th>lemm_text</th>\n",
       "      <th>stage</th>\n",
       "      <th>assessor</th>\n",
       "      <th>is_ethicity_superior_meaning</th>\n",
       "      <th>is_ethicity_aggressor_meaning</th>\n",
       "      <th>is_ethicity_dangerous_meaning</th>\n",
       "      <th>eth_group_to_code</th>\n",
       "    </tr>\n",
       "  </thead>\n",
       "  <tbody>\n",
       "    <tr>\n",
       "      <th>0</th>\n",
       "      <td>0</td>\n",
       "      <td>885072939</td>\n",
       "      <td>грузин mia бред написать какой русский вообще ...</td>\n",
       "      <td>3</td>\n",
       "      <td>mintbreeze</td>\n",
       "      <td>irrel</td>\n",
       "      <td>irrel</td>\n",
       "      <td>no</td>\n",
       "      <td>грузин</td>\n",
       "    </tr>\n",
       "    <tr>\n",
       "      <th>1</th>\n",
       "      <td>1</td>\n",
       "      <td>885072939</td>\n",
       "      <td>абхаз mia бред написать какой русский вообще г...</td>\n",
       "      <td>3</td>\n",
       "      <td>mintbreeze</td>\n",
       "      <td>irrel</td>\n",
       "      <td>irrel</td>\n",
       "      <td>no</td>\n",
       "      <td>абхаз</td>\n",
       "    </tr>\n",
       "    <tr>\n",
       "      <th>2</th>\n",
       "      <td>3</td>\n",
       "      <td>885072939</td>\n",
       "      <td>грузин mia бред написать какой русский вообще ...</td>\n",
       "      <td>3</td>\n",
       "      <td>adzhigitova</td>\n",
       "      <td>irrel</td>\n",
       "      <td>irrel</td>\n",
       "      <td>irrel</td>\n",
       "      <td>грузин</td>\n",
       "    </tr>\n",
       "    <tr>\n",
       "      <th>3</th>\n",
       "      <td>4</td>\n",
       "      <td>885072939</td>\n",
       "      <td>абхаз mia бред написать какой русский вообще г...</td>\n",
       "      <td>3</td>\n",
       "      <td>adzhigitova</td>\n",
       "      <td>irrel</td>\n",
       "      <td>irrel</td>\n",
       "      <td>irrel</td>\n",
       "      <td>абхаз</td>\n",
       "    </tr>\n",
       "    <tr>\n",
       "      <th>4</th>\n",
       "      <td>5</td>\n",
       "      <td>885072939</td>\n",
       "      <td>русский mia бред написать какой русский вообще...</td>\n",
       "      <td>3</td>\n",
       "      <td>adzhigitova</td>\n",
       "      <td>irrel</td>\n",
       "      <td>victim</td>\n",
       "      <td>no</td>\n",
       "      <td>русский</td>\n",
       "    </tr>\n",
       "  </tbody>\n",
       "</table>\n",
       "</div>"
      ],
      "text/plain": [
       "   Unnamed: 0  document.id                                          lemm_text  \\\n",
       "0           0    885072939  грузин mia бред написать какой русский вообще ...   \n",
       "1           1    885072939  абхаз mia бред написать какой русский вообще г...   \n",
       "2           3    885072939  грузин mia бред написать какой русский вообще ...   \n",
       "3           4    885072939  абхаз mia бред написать какой русский вообще г...   \n",
       "4           5    885072939  русский mia бред написать какой русский вообще...   \n",
       "\n",
       "   stage     assessor is_ethicity_superior_meaning  \\\n",
       "0      3   mintbreeze                        irrel   \n",
       "1      3   mintbreeze                        irrel   \n",
       "2      3  adzhigitova                        irrel   \n",
       "3      3  adzhigitova                        irrel   \n",
       "4      3  adzhigitova                        irrel   \n",
       "\n",
       "  is_ethicity_aggressor_meaning is_ethicity_dangerous_meaning  \\\n",
       "0                         irrel                            no   \n",
       "1                         irrel                            no   \n",
       "2                         irrel                         irrel   \n",
       "3                         irrel                         irrel   \n",
       "4                        victim                            no   \n",
       "\n",
       "  eth_group_to_code  \n",
       "0            грузин  \n",
       "1             абхаз  \n",
       "2            грузин  \n",
       "3             абхаз  \n",
       "4           русский  "
      ]
     },
     "execution_count": 58,
     "metadata": {},
     "output_type": "execute_result"
    }
   ],
   "source": [
    "df1 = pd.read_csv('../data/is_ethicity_superior_meaning|is_ethicity_aggressor_meaning|is_ethicity_dangerous_meaning_eth_group_lemm_text.csv')\n",
    "\n",
    "df1.head()"
   ]
  },
  {
   "cell_type": "code",
   "execution_count": 59,
   "id": "e88b09b2",
   "metadata": {},
   "outputs": [
    {
     "name": "stdout",
     "output_type": "stream",
     "text": [
      "Dataset size (5761, 3)\n",
      "row number:  5761\n",
      "feature number:  3\n",
      "\n",
      "names of features:  ['document.id', 'lemm_text', 'is_ethicity_dangerous_meaning']\n"
     ]
    },
    {
     "name": "stderr",
     "output_type": "stream",
     "text": [
      "/tmp/ipykernel_1764097/1845710786.py:3: UserWarning: Boolean Series key will be reindexed to match DataFrame index.\n",
      "  df1 = df1[df1['assessor'] == 'adzhigitova'][df1['stage'] == 2]\n"
     ]
    }
   ],
   "source": [
    "df1 = pd.read_csv('../data/is_ethicity_superior_meaning|is_ethicity_aggressor_meaning|is_ethicity_dangerous_meaning_eth_group_lemm_text.csv')\n",
    "\n",
    "df1 = df1[df1['assessor'] == 'adzhigitova'][df1['stage'] == 2]\n",
    "\n",
    "cols = [\n",
    "    'is_ethicity_superior_meaning',\n",
    "    'is_ethicity_aggressor_meaning',\n",
    "    'is_ethicity_dangerous_meaning'   \n",
    "]\n",
    "k = 2\n",
    "\n",
    "df1 = df1[['document.id', 'lemm_text', cols[k]]]\n",
    "\n",
    "# this gives us the size of the array\n",
    "print('Dataset size', df1.shape)\n",
    "\n",
    "# here we can get size of array as two variables\n",
    "num_rows1, num_feature1 = df1.shape\n",
    "\n",
    "print('row number: ', num_rows1)\n",
    "print('feature number: ', num_feature1)\n",
    "print()\n",
    "print('names of features: ', list(df1))"
   ]
  },
  {
   "cell_type": "code",
   "execution_count": 60,
   "id": "3d9ce384",
   "metadata": {},
   "outputs": [],
   "source": [
    "# # уберем самый большой класс\n",
    "# irrel_df= df1[df1[\"is_ethicity_superior_meaning\"] == \"irrel\"]\n",
    "# high_df= df1[df1[\"is_ethicity_superior_meaning\"] == \"high\"]\n",
    "# low_df= df1[df1[\"is_ethicity_superior_meaning\"] == \"low\"]\n",
    "\n",
    "# new_data = pd.concat([irrel_df, high_df, low_df])\n",
    "# print(new_data.shape)"
   ]
  },
  {
   "cell_type": "code",
   "execution_count": 61,
   "id": "a0e6203f",
   "metadata": {},
   "outputs": [],
   "source": [
    "new_data = df1"
   ]
  },
  {
   "cell_type": "code",
   "execution_count": 62,
   "id": "d19fd603",
   "metadata": {},
   "outputs": [
    {
     "name": "stdout",
     "output_type": "stream",
     "text": [
      "['document.id', 'lemm_text', 'is_ethicity_dangerous_meaning']\n"
     ]
    },
    {
     "data": {
      "text/plain": [
       "(5761, 3)"
      ]
     },
     "execution_count": 62,
     "metadata": {},
     "output_type": "execute_result"
    }
   ],
   "source": [
    "# теперь сделаем перемешивание и востановление индекса\n",
    "from sklearn.utils import shuffle\n",
    "shuf_data = shuffle(new_data)\n",
    "print(list(shuf_data))\n",
    "shuf_data.shape"
   ]
  },
  {
   "cell_type": "code",
   "execution_count": 63,
   "id": "c7fa45f9",
   "metadata": {},
   "outputs": [],
   "source": [
    "# востоновим индексы\n",
    "shuf_data.index = np.arange(len(shuf_data))"
   ]
  },
  {
   "cell_type": "code",
   "execution_count": 64,
   "id": "ab35e1e3",
   "metadata": {
    "scrolled": true
   },
   "outputs": [
    {
     "name": "stdout",
     "output_type": "stream",
     "text": [
      "irrel     554\n",
      "no       4333\n",
      "yes       874\n",
      "Name: is_ethicity_dangerous_meaning, dtype: int64\n"
     ]
    },
    {
     "data": {
      "text/plain": [
       "<Axes: >"
      ]
     },
     "execution_count": 64,
     "metadata": {},
     "output_type": "execute_result"
    },
    {
     "data": {
      "image/png": "[encoded data removed]",
      "text/plain": [
       "<Figure size 640x480 with 1 Axes>"
      ]
     },
     "metadata": {},
     "output_type": "display_data"
    }
   ],
   "source": [
    "# давайте посмотрим распределение оценок\n",
    "import matplotlib.pyplot as plt\n",
    "%matplotlib inline\n",
    "# value_counts () - a command that allows you to calculate the number of unique values\n",
    "vc = shuf_data[cols[k]].value_counts()\n",
    "vc = vc.sort_index()\n",
    "print(vc)\n",
    "vc.plot(kind='bar')"
   ]
  },
  {
   "cell_type": "code",
   "execution_count": 65,
   "id": "3ebb0838",
   "metadata": {},
   "outputs": [],
   "source": [
    "df1=shuf_data"
   ]
  },
  {
   "cell_type": "code",
   "execution_count": 66,
   "id": "6b495201",
   "metadata": {},
   "outputs": [],
   "source": [
    "# Теперь, для того что бы подать документы и лейблы в нейронную сеть\n",
    "# нужно сделать небольшой препроцессинг\n",
    "# 1. нужно токенезировать\n",
    "# 2. преобразовать токены в набор нулей и единиц"
   ]
  },
  {
   "cell_type": "code",
   "execution_count": 67,
   "id": "ad11d963",
   "metadata": {},
   "outputs": [],
   "source": [
    "# кодируем документы в нули и единицы\n",
    "# проведем токенизацию с помощью keras\n",
    "from keras.preprocessing.text import Tokenizer\n",
    "t = Tokenizer(num_words=5000)\n",
    "t.fit_on_texts(df1['lemm_text'])\n",
    "encoded_docs = t.texts_to_matrix(df1['lemm_text'], mode='count')\n",
    "# print(encoded_docs)\n",
    "# Такие документы можно подавать на вход сети"
   ]
  },
  {
   "cell_type": "code",
   "execution_count": 68,
   "id": "699d8ee1",
   "metadata": {},
   "outputs": [
    {
     "name": "stdout",
     "output_type": "stream",
     "text": [
      "(5761, 5000)\n"
     ]
    }
   ],
   "source": [
    "# размер матрицы\n",
    "print(encoded_docs.shape)\n",
    "num_doc, num_words = encoded_docs.shape\n",
    "# 8650 - число документов\n",
    "# 64551 - число фич (число слов) - размер словаря"
   ]
  },
  {
   "cell_type": "code",
   "execution_count": 69,
   "id": "286f016a",
   "metadata": {},
   "outputs": [
    {
     "data": {
      "text/html": [
       "<div>\n",
       "<style scoped>\n",
       "    .dataframe tbody tr th:only-of-type {\n",
       "        vertical-align: middle;\n",
       "    }\n",
       "\n",
       "    .dataframe tbody tr th {\n",
       "        vertical-align: top;\n",
       "    }\n",
       "\n",
       "    .dataframe thead th {\n",
       "        text-align: right;\n",
       "    }\n",
       "</style>\n",
       "<table border=\"1\" class=\"dataframe\">\n",
       "  <thead>\n",
       "    <tr style=\"text-align: right;\">\n",
       "      <th></th>\n",
       "      <th>document.id</th>\n",
       "      <th>lemm_text</th>\n",
       "      <th>is_ethicity_dangerous_meaning</th>\n",
       "    </tr>\n",
       "  </thead>\n",
       "  <tbody>\n",
       "    <tr>\n",
       "      <th>0</th>\n",
       "      <td>391573251</td>\n",
       "      <td>американец долбо зуб какой братский земля крым...</td>\n",
       "      <td>no</td>\n",
       "    </tr>\n",
       "    <tr>\n",
       "      <th>1</th>\n",
       "      <td>928503285</td>\n",
       "      <td>русский после окончание война день балтика зат...</td>\n",
       "      <td>irrel</td>\n",
       "    </tr>\n",
       "    <tr>\n",
       "      <th>2</th>\n",
       "      <td>327575294</td>\n",
       "      <td>таджик re теракт волгоград отделение кавказ ис...</td>\n",
       "      <td>no</td>\n",
       "    </tr>\n",
       "    <tr>\n",
       "      <th>3</th>\n",
       "      <td>1007829197</td>\n",
       "      <td>кумык сегодня буйнакск митинг улица чкалов мэр...</td>\n",
       "      <td>yes</td>\n",
       "    </tr>\n",
       "    <tr>\n",
       "      <th>4</th>\n",
       "      <td>461655537</td>\n",
       "      <td>калмык ещё женатый жить россия</td>\n",
       "      <td>no</td>\n",
       "    </tr>\n",
       "    <tr>\n",
       "      <th>...</th>\n",
       "      <td>...</td>\n",
       "      <td>...</td>\n",
       "      <td>...</td>\n",
       "    </tr>\n",
       "    <tr>\n",
       "      <th>5756</th>\n",
       "      <td>384140940</td>\n",
       "      <td>якут степан бот угомониться плохо готовить моч...</td>\n",
       "      <td>no</td>\n",
       "    </tr>\n",
       "    <tr>\n",
       "      <th>5757</th>\n",
       "      <td>887901289</td>\n",
       "      <td>татарин ответить королёв писать ошик главный х...</td>\n",
       "      <td>no</td>\n",
       "    </tr>\n",
       "    <tr>\n",
       "      <th>5758</th>\n",
       "      <td>893432160</td>\n",
       "      <td>туркмен сильно пробрать песня видеоклип youtub...</td>\n",
       "      <td>no</td>\n",
       "    </tr>\n",
       "    <tr>\n",
       "      <th>5759</th>\n",
       "      <td>1069375675</td>\n",
       "      <td>хач сафоника писать спина мочь сказать хач лиц...</td>\n",
       "      <td>no</td>\n",
       "    </tr>\n",
       "    <tr>\n",
       "      <th>5760</th>\n",
       "      <td>735918264</td>\n",
       "      <td>чучмек эдуард русский этнос преобладать гаплог...</td>\n",
       "      <td>no</td>\n",
       "    </tr>\n",
       "  </tbody>\n",
       "</table>\n",
       "<p>5761 rows × 3 columns</p>\n",
       "</div>"
      ],
      "text/plain": [
       "      document.id                                          lemm_text  \\\n",
       "0       391573251  американец долбо зуб какой братский земля крым...   \n",
       "1       928503285  русский после окончание война день балтика зат...   \n",
       "2       327575294  таджик re теракт волгоград отделение кавказ ис...   \n",
       "3      1007829197  кумык сегодня буйнакск митинг улица чкалов мэр...   \n",
       "4       461655537                     калмык ещё женатый жить россия   \n",
       "...           ...                                                ...   \n",
       "5756    384140940  якут степан бот угомониться плохо готовить моч...   \n",
       "5757    887901289  татарин ответить королёв писать ошик главный х...   \n",
       "5758    893432160  туркмен сильно пробрать песня видеоклип youtub...   \n",
       "5759   1069375675  хач сафоника писать спина мочь сказать хач лиц...   \n",
       "5760    735918264  чучмек эдуард русский этнос преобладать гаплог...   \n",
       "\n",
       "     is_ethicity_dangerous_meaning  \n",
       "0                               no  \n",
       "1                            irrel  \n",
       "2                               no  \n",
       "3                              yes  \n",
       "4                               no  \n",
       "...                            ...  \n",
       "5756                            no  \n",
       "5757                            no  \n",
       "5758                            no  \n",
       "5759                            no  \n",
       "5760                            no  \n",
       "\n",
       "[5761 rows x 3 columns]"
      ]
     },
     "execution_count": 69,
     "metadata": {},
     "output_type": "execute_result"
    }
   ],
   "source": [
    "df1"
   ]
  },
  {
   "cell_type": "code",
   "execution_count": 70,
   "id": "cbd9e658",
   "metadata": {},
   "outputs": [
    {
     "name": "stdout",
     "output_type": "stream",
     "text": [
      "x_train:  (4032, 5000)\n",
      "x_valid:  (1729, 5000)\n",
      "------------------------------\n",
      "y_train:  (4032,)\n",
      "y_valid:  (1729,)\n"
     ]
    }
   ],
   "source": [
    "# Разделим наш датасет на тренировочную и тестовую часть\n",
    "from sklearn.model_selection import train_test_split\n",
    "# делим даанные на тестовую и тренировочную коллекцию\n",
    "x_train, x_valid, y_train, y_valid = train_test_split(encoded_docs,\n",
    "                                                      df1[cols[k]],\n",
    "                                                      random_state=3,\n",
    "                                                      test_size=0.3)\n",
    "print('x_train: ', x_train.shape)\n",
    "print('x_valid: ', x_valid.shape)\n",
    "print('------------------------------')\n",
    "print('y_train: ' , y_train.shape)\n",
    "print('y_valid: ' , y_valid.shape)"
   ]
  },
  {
   "cell_type": "code",
   "execution_count": 71,
   "id": "68bfbc9d",
   "metadata": {},
   "outputs": [
    {
     "data": {
      "text/html": [
       "<div>\n",
       "<style scoped>\n",
       "    .dataframe tbody tr th:only-of-type {\n",
       "        vertical-align: middle;\n",
       "    }\n",
       "\n",
       "    .dataframe tbody tr th {\n",
       "        vertical-align: top;\n",
       "    }\n",
       "\n",
       "    .dataframe thead th {\n",
       "        text-align: right;\n",
       "    }\n",
       "</style>\n",
       "<table border=\"1\" class=\"dataframe\">\n",
       "  <thead>\n",
       "    <tr style=\"text-align: right;\">\n",
       "      <th></th>\n",
       "      <th>irrel</th>\n",
       "      <th>no</th>\n",
       "      <th>yes</th>\n",
       "    </tr>\n",
       "  </thead>\n",
       "  <tbody>\n",
       "    <tr>\n",
       "      <th>323</th>\n",
       "      <td>0</td>\n",
       "      <td>1</td>\n",
       "      <td>0</td>\n",
       "    </tr>\n",
       "    <tr>\n",
       "      <th>3302</th>\n",
       "      <td>0</td>\n",
       "      <td>1</td>\n",
       "      <td>0</td>\n",
       "    </tr>\n",
       "    <tr>\n",
       "      <th>4723</th>\n",
       "      <td>1</td>\n",
       "      <td>0</td>\n",
       "      <td>0</td>\n",
       "    </tr>\n",
       "    <tr>\n",
       "      <th>5256</th>\n",
       "      <td>0</td>\n",
       "      <td>1</td>\n",
       "      <td>0</td>\n",
       "    </tr>\n",
       "    <tr>\n",
       "      <th>5604</th>\n",
       "      <td>0</td>\n",
       "      <td>1</td>\n",
       "      <td>0</td>\n",
       "    </tr>\n",
       "    <tr>\n",
       "      <th>...</th>\n",
       "      <td>...</td>\n",
       "      <td>...</td>\n",
       "      <td>...</td>\n",
       "    </tr>\n",
       "    <tr>\n",
       "      <th>789</th>\n",
       "      <td>0</td>\n",
       "      <td>1</td>\n",
       "      <td>0</td>\n",
       "    </tr>\n",
       "    <tr>\n",
       "      <th>968</th>\n",
       "      <td>1</td>\n",
       "      <td>0</td>\n",
       "      <td>0</td>\n",
       "    </tr>\n",
       "    <tr>\n",
       "      <th>1667</th>\n",
       "      <td>0</td>\n",
       "      <td>1</td>\n",
       "      <td>0</td>\n",
       "    </tr>\n",
       "    <tr>\n",
       "      <th>3321</th>\n",
       "      <td>0</td>\n",
       "      <td>0</td>\n",
       "      <td>1</td>\n",
       "    </tr>\n",
       "    <tr>\n",
       "      <th>1688</th>\n",
       "      <td>0</td>\n",
       "      <td>1</td>\n",
       "      <td>0</td>\n",
       "    </tr>\n",
       "  </tbody>\n",
       "</table>\n",
       "<p>4032 rows × 3 columns</p>\n",
       "</div>"
      ],
      "text/plain": [
       "      irrel  no  yes\n",
       "323       0   1    0\n",
       "3302      0   1    0\n",
       "4723      1   0    0\n",
       "5256      0   1    0\n",
       "5604      0   1    0\n",
       "...     ...  ..  ...\n",
       "789       0   1    0\n",
       "968       1   0    0\n",
       "1667      0   1    0\n",
       "3321      0   0    1\n",
       "1688      0   1    0\n",
       "\n",
       "[4032 rows x 3 columns]"
      ]
     },
     "execution_count": 71,
     "metadata": {},
     "output_type": "execute_result"
    }
   ],
   "source": [
    "# теперь сделаем препоцессинг лейблов\n",
    "y_dummy_train = pd.get_dummies(y_train)\n",
    "y_dummy_train"
   ]
  },
  {
   "cell_type": "code",
   "execution_count": 72,
   "id": "9034f73b",
   "metadata": {},
   "outputs": [
    {
     "data": {
      "text/html": [
       "<div>\n",
       "<style scoped>\n",
       "    .dataframe tbody tr th:only-of-type {\n",
       "        vertical-align: middle;\n",
       "    }\n",
       "\n",
       "    .dataframe tbody tr th {\n",
       "        vertical-align: top;\n",
       "    }\n",
       "\n",
       "    .dataframe thead th {\n",
       "        text-align: right;\n",
       "    }\n",
       "</style>\n",
       "<table border=\"1\" class=\"dataframe\">\n",
       "  <thead>\n",
       "    <tr style=\"text-align: right;\">\n",
       "      <th></th>\n",
       "      <th>irrel</th>\n",
       "      <th>no</th>\n",
       "      <th>yes</th>\n",
       "    </tr>\n",
       "  </thead>\n",
       "  <tbody>\n",
       "    <tr>\n",
       "      <th>914</th>\n",
       "      <td>0</td>\n",
       "      <td>1</td>\n",
       "      <td>0</td>\n",
       "    </tr>\n",
       "    <tr>\n",
       "      <th>940</th>\n",
       "      <td>1</td>\n",
       "      <td>0</td>\n",
       "      <td>0</td>\n",
       "    </tr>\n",
       "    <tr>\n",
       "      <th>5508</th>\n",
       "      <td>0</td>\n",
       "      <td>0</td>\n",
       "      <td>1</td>\n",
       "    </tr>\n",
       "    <tr>\n",
       "      <th>4761</th>\n",
       "      <td>0</td>\n",
       "      <td>1</td>\n",
       "      <td>0</td>\n",
       "    </tr>\n",
       "    <tr>\n",
       "      <th>1125</th>\n",
       "      <td>0</td>\n",
       "      <td>1</td>\n",
       "      <td>0</td>\n",
       "    </tr>\n",
       "    <tr>\n",
       "      <th>...</th>\n",
       "      <td>...</td>\n",
       "      <td>...</td>\n",
       "      <td>...</td>\n",
       "    </tr>\n",
       "    <tr>\n",
       "      <th>1965</th>\n",
       "      <td>0</td>\n",
       "      <td>0</td>\n",
       "      <td>1</td>\n",
       "    </tr>\n",
       "    <tr>\n",
       "      <th>938</th>\n",
       "      <td>0</td>\n",
       "      <td>1</td>\n",
       "      <td>0</td>\n",
       "    </tr>\n",
       "    <tr>\n",
       "      <th>5716</th>\n",
       "      <td>0</td>\n",
       "      <td>1</td>\n",
       "      <td>0</td>\n",
       "    </tr>\n",
       "    <tr>\n",
       "      <th>3429</th>\n",
       "      <td>0</td>\n",
       "      <td>1</td>\n",
       "      <td>0</td>\n",
       "    </tr>\n",
       "    <tr>\n",
       "      <th>5406</th>\n",
       "      <td>1</td>\n",
       "      <td>0</td>\n",
       "      <td>0</td>\n",
       "    </tr>\n",
       "  </tbody>\n",
       "</table>\n",
       "<p>1729 rows × 3 columns</p>\n",
       "</div>"
      ],
      "text/plain": [
       "      irrel  no  yes\n",
       "914       0   1    0\n",
       "940       1   0    0\n",
       "5508      0   0    1\n",
       "4761      0   1    0\n",
       "1125      0   1    0\n",
       "...     ...  ..  ...\n",
       "1965      0   0    1\n",
       "938       0   1    0\n",
       "5716      0   1    0\n",
       "3429      0   1    0\n",
       "5406      1   0    0\n",
       "\n",
       "[1729 rows x 3 columns]"
      ]
     },
     "execution_count": 72,
     "metadata": {},
     "output_type": "execute_result"
    }
   ],
   "source": [
    "# теперь сделаем препоцессинг лейблов\n",
    "y_dummy_valid = pd.get_dummies(y_valid)\n",
    "y_dummy_valid"
   ]
  },
  {
   "cell_type": "code",
   "execution_count": 73,
   "id": "2dffe7c5",
   "metadata": {},
   "outputs": [
    {
     "data": {
      "text/html": [
       "<style>#sk-container-id-2 {color: black;background-color: white;}#sk-container-id-2 pre{padding: 0;}#sk-container-id-2 div.sk-toggleable {background-color: white;}#sk-container-id-2 label.sk-toggleable__label {cursor: pointer;display: block;width: 100%;margin-bottom: 0;padding: 0.3em;box-sizing: border-box;text-align: center;}#sk-container-id-2 label.sk-toggleable__label-arrow:before {content: \"▸\";float: left;margin-right: 0.25em;color: #696969;}#sk-container-id-2 label.sk-toggleable__label-arrow:hover:before {color: black;}#sk-container-id-2 div.sk-estimator:hover label.sk-toggleable__label-arrow:before {color: black;}#sk-container-id-2 div.sk-toggleable__content {max-height: 0;max-width: 0;overflow: hidden;text-align: left;background-color: #f0f8ff;}#sk-container-id-2 div.sk-toggleable__content pre {margin: 0.2em;color: black;border-radius: 0.25em;background-color: #f0f8ff;}#sk-container-id-2 input.sk-toggleable__control:checked~div.sk-toggleable__content {max-height: 200px;max-width: 100%;overflow: auto;}#sk-container-id-2 input.sk-toggleable__control:checked~label.sk-toggleable__label-arrow:before {content: \"▾\";}#sk-container-id-2 div.sk-estimator input.sk-toggleable__control:checked~label.sk-toggleable__label {background-color: #d4ebff;}#sk-container-id-2 div.sk-label input.sk-toggleable__control:checked~label.sk-toggleable__label {background-color: #d4ebff;}#sk-container-id-2 input.sk-hidden--visually {border: 0;clip: rect(1px 1px 1px 1px);clip: rect(1px, 1px, 1px, 1px);height: 1px;margin: -1px;overflow: hidden;padding: 0;position: absolute;width: 1px;}#sk-container-id-2 div.sk-estimator {font-family: monospace;background-color: #f0f8ff;border: 1px dotted black;border-radius: 0.25em;box-sizing: border-box;margin-bottom: 0.5em;}#sk-container-id-2 div.sk-estimator:hover {background-color: #d4ebff;}#sk-container-id-2 div.sk-parallel-item::after {content: \"\";width: 100%;border-bottom: 1px solid gray;flex-grow: 1;}#sk-container-id-2 div.sk-label:hover label.sk-toggleable__label {background-color: #d4ebff;}#sk-container-id-2 div.sk-serial::before {content: \"\";position: absolute;border-left: 1px solid gray;box-sizing: border-box;top: 0;bottom: 0;left: 50%;z-index: 0;}#sk-container-id-2 div.sk-serial {display: flex;flex-direction: column;align-items: center;background-color: white;padding-right: 0.2em;padding-left: 0.2em;position: relative;}#sk-container-id-2 div.sk-item {position: relative;z-index: 1;}#sk-container-id-2 div.sk-parallel {display: flex;align-items: stretch;justify-content: center;background-color: white;position: relative;}#sk-container-id-2 div.sk-item::before, #sk-container-id-2 div.sk-parallel-item::before {content: \"\";position: absolute;border-left: 1px solid gray;box-sizing: border-box;top: 0;bottom: 0;left: 50%;z-index: -1;}#sk-container-id-2 div.sk-parallel-item {display: flex;flex-direction: column;z-index: 1;position: relative;background-color: white;}#sk-container-id-2 div.sk-parallel-item:first-child::after {align-self: flex-end;width: 50%;}#sk-container-id-2 div.sk-parallel-item:last-child::after {align-self: flex-start;width: 50%;}#sk-container-id-2 div.sk-parallel-item:only-child::after {width: 0;}#sk-container-id-2 div.sk-dashed-wrapped {border: 1px dashed gray;margin: 0 0.4em 0.5em 0.4em;box-sizing: border-box;padding-bottom: 0.4em;background-color: white;}#sk-container-id-2 div.sk-label label {font-family: monospace;font-weight: bold;display: inline-block;line-height: 1.2em;}#sk-container-id-2 div.sk-label-container {text-align: center;}#sk-container-id-2 div.sk-container {/* jupyter's `normalize.less` sets `[hidden] { display: none; }` but bootstrap.min.css set `[hidden] { display: none !important; }` so we also need the `!important` here to be able to override the default hidden behavior on the sphinx rendered scikit-learn.org. See: https://github.com/scikit-learn/scikit-learn/issues/21755 */display: inline-block !important;position: relative;}#sk-container-id-2 div.sk-text-repr-fallback {display: none;}</style><div id=\"sk-container-id-2\" class=\"sk-top-container\"><div class=\"sk-text-repr-fallback\"><pre>KNeighborsClassifier(metric=&#x27;cosine&#x27;, n_neighbors=3, weights=&#x27;distance&#x27;)</pre><b>In a Jupyter environment, please rerun this cell to show the HTML representation or trust the notebook. <br />On GitHub, the HTML representation is unable to render, please try loading this page with nbviewer.org.</b></div><div class=\"sk-container\" hidden><div class=\"sk-item\"><div class=\"sk-estimator sk-toggleable\"><input class=\"sk-toggleable__control sk-hidden--visually\" id=\"sk-estimator-id-2\" type=\"checkbox\" checked><label for=\"sk-estimator-id-2\" class=\"sk-toggleable__label sk-toggleable__label-arrow\">KNeighborsClassifier</label><div class=\"sk-toggleable__content\"><pre>KNeighborsClassifier(metric=&#x27;cosine&#x27;, n_neighbors=3, weights=&#x27;distance&#x27;)</pre></div></div></div></div></div>"
      ],
      "text/plain": [
       "KNeighborsClassifier(metric='cosine', n_neighbors=3, weights='distance')"
      ]
     },
     "execution_count": 73,
     "metadata": {},
     "output_type": "execute_result"
    }
   ],
   "source": [
    "from sklearn.neighbors import KNeighborsClassifier\n",
    "neigh = KNeighborsClassifier(n_neighbors=3, weights='distance', metric='cosine')\n",
    "neigh.fit(x_train, y_train)"
   ]
  },
  {
   "cell_type": "code",
   "execution_count": 74,
   "id": "38179bae",
   "metadata": {},
   "outputs": [
    {
     "data": {
      "text/plain": [
       "(0.6718911025521462, 0.8224407171775593)"
      ]
     },
     "execution_count": 74,
     "metadata": {},
     "output_type": "execute_result"
    }
   ],
   "source": [
    "from sklearn.metrics import f1_score\n",
    "from sklearn.metrics import accuracy_score\n",
    "\n",
    "pred = neigh.predict(x_valid)\n",
    "f1_score(y_valid, pred, average='macro'), accuracy_score(y_valid, pred)\n"
   ]
  },
  {
   "cell_type": "code",
   "execution_count": 75,
   "id": "c4723aed",
   "metadata": {},
   "outputs": [
    {
     "data": {
      "text/plain": [
       "(0.6303991323359316, 0.763447079236553)"
      ]
     },
     "execution_count": 75,
     "metadata": {},
     "output_type": "execute_result"
    }
   ],
   "source": [
    "from sklearn.naive_bayes import MultinomialNB\n",
    "from sklearn.metrics import accuracy_score\n",
    "\n",
    "clf = MultinomialNB(force_alpha=True)\n",
    "clf.fit(x_train, y_train)\n",
    "\n",
    "pred = clf.predict(x_valid)\n",
    "f1_score(y_valid, pred, average='macro'), accuracy_score(y_valid, pred)"
   ]
  },
  {
   "cell_type": "markdown",
   "id": "7ac6b704",
   "metadata": {},
   "source": [
    "### тeперь можно построить сеть прямого распространения\n",
    "создание, обучение и оценка каествасети состоит из следующих этапов\n",
    "1. создание сети\n",
    "2. компиляция сети\n",
    "3. обучение сети\n",
    "4. оценка качества"
   ]
  },
  {
   "cell_type": "markdown",
   "id": "95cac769",
   "metadata": {},
   "source": [
    "# простая сеть"
   ]
  },
  {
   "cell_type": "code",
   "execution_count": 76,
   "id": "696f0323",
   "metadata": {},
   "outputs": [
    {
     "name": "stdout",
     "output_type": "stream",
     "text": [
      "Model: \"sequential_3\"\n",
      "_________________________________________________________________\n",
      " Layer (type)                Output Shape              Param #   \n",
      "=================================================================\n",
      " dense_12 (Dense)            (None, 64)                320064    \n",
      "                                                                 \n",
      " dense_13 (Dense)            (None, 64)                4160      \n",
      "                                                                 \n",
      " dense_14 (Dense)            (None, 64)                4160      \n",
      "                                                                 \n",
      " dropout_3 (Dropout)         (None, 64)                0         \n",
      "                                                                 \n",
      " dense_15 (Dense)            (None, 3)                 195       \n",
      "                                                                 \n",
      "=================================================================\n",
      "Total params: 328,579\n",
      "Trainable params: 328,579\n",
      "Non-trainable params: 0\n",
      "_________________________________________________________________\n"
     ]
    }
   ],
   "source": [
    "# создание сети\n",
    "from keras import models\n",
    "from keras import layers\n",
    "\n",
    "model = models.Sequential()\n",
    "\n",
    "model.add(layers.Dense(64, activation='relu', input_shape=(5000,)))\n",
    "model.add(layers.Dense(64, activation='relu'))\n",
    "model.add(layers.Dense(64, activation='relu'))\n",
    "# Dropout - дает возможно забывать сетью часть своих нейронов\n",
    "model.add(layers.Dropout(0.1))\n",
    "model.add(layers.Dense(3, activation='softmax'))\n",
    "model.compile(optimizer='rmsprop', loss='categorical_crossentropy', metrics=['accuracy'])\n",
    "\n",
    "model.summary()"
   ]
  },
  {
   "cell_type": "markdown",
   "id": "92a0ea13",
   "metadata": {},
   "source": [
    "# RNN сеть"
   ]
  },
  {
   "cell_type": "code",
   "execution_count": 31,
   "id": "6b66b902",
   "metadata": {},
   "outputs": [
    {
     "name": "stdout",
     "output_type": "stream",
     "text": [
      "Model: \"sequential_1\"\n",
      "_________________________________________________________________\n",
      " Layer (type)                Output Shape              Param #   \n",
      "=================================================================\n",
      " dense_4 (Dense)             (None, 64)                320064    \n",
      "                                                                 \n",
      " reshape (Reshape)           (None, 1, 64)             0         \n",
      "                                                                 \n",
      " simple_rnn (SimpleRNN)      (None, 64)                8256      \n",
      "                                                                 \n",
      " dense_5 (Dense)             (None, 64)                4160      \n",
      "                                                                 \n",
      " dropout_1 (Dropout)         (None, 64)                0         \n",
      "                                                                 \n",
      " dense_6 (Dense)             (None, 64)                4160      \n",
      "                                                                 \n",
      " dense_7 (Dense)             (None, 3)                 195       \n",
      "                                                                 \n",
      "=================================================================\n",
      "Total params: 336,835\n",
      "Trainable params: 336,835\n",
      "Non-trainable params: 0\n",
      "_________________________________________________________________\n"
     ]
    }
   ],
   "source": [
    "# построение модели\n",
    "from keras.models import Sequential\n",
    "from keras.layers import Flatten, Dense, Embedding\n",
    "from keras.layers import SimpleRNN, Reshape\n",
    "from keras import layers\n",
    "\n",
    "model = Sequential()\n",
    "\n",
    "model.add(layers.Dense(64, activation='relu', input_shape=(5000,)))\n",
    "model.add(Reshape((1, 64)))\n",
    "model.add(SimpleRNN(64))\n",
    "model.add(Dense(64, activation='relu'))\n",
    "# Dropout - дает возможно забывать сетью часть своих нейронов\n",
    "model.add(layers.Dropout(0.1))\n",
    "model.add(Dense(64, activation='relu'))\n",
    "model.add(Dense(3, activation='sigmoid'))\n",
    "model.summary()"
   ]
  },
  {
   "cell_type": "markdown",
   "id": "e663bea4",
   "metadata": {},
   "source": [
    "# LST сеть"
   ]
  },
  {
   "cell_type": "code",
   "execution_count": 43,
   "id": "5c8119f9",
   "metadata": {},
   "outputs": [
    {
     "name": "stdout",
     "output_type": "stream",
     "text": [
      "Model: \"sequential_2\"\n",
      "_________________________________________________________________\n",
      " Layer (type)                Output Shape              Param #   \n",
      "=================================================================\n",
      " dense_8 (Dense)             (None, 64)                320064    \n",
      "                                                                 \n",
      " reshape_1 (Reshape)         (None, 1, 64)             0         \n",
      "                                                                 \n",
      " lstm (LSTM)                 (None, 64)                33024     \n",
      "                                                                 \n",
      " dense_9 (Dense)             (None, 64)                4160      \n",
      "                                                                 \n",
      " dropout_2 (Dropout)         (None, 64)                0         \n",
      "                                                                 \n",
      " dense_10 (Dense)            (None, 64)                4160      \n",
      "                                                                 \n",
      " dense_11 (Dense)            (None, 3)                 195       \n",
      "                                                                 \n",
      "=================================================================\n",
      "Total params: 361,603\n",
      "Trainable params: 361,603\n",
      "Non-trainable params: 0\n",
      "_________________________________________________________________\n"
     ]
    },
    {
     "name": "stderr",
     "output_type": "stream",
     "text": [
      "2023-06-20 23:31:28.271171: I tensorflow/core/common_runtime/executor.cc:1197] [/device:CPU:0] (DEBUG INFO) Executor start aborting (this does not indicate an error and you can ignore this message): INVALID_ARGUMENT: You must feed a value for placeholder tensor 'gradients/split_2_grad/concat/split_2/split_dim' with dtype int32\n",
      "\t [[{{node gradients/split_2_grad/concat/split_2/split_dim}}]]\n",
      "2023-06-20 23:31:28.271843: I tensorflow/core/common_runtime/executor.cc:1197] [/device:CPU:0] (DEBUG INFO) Executor start aborting (this does not indicate an error and you can ignore this message): INVALID_ARGUMENT: You must feed a value for placeholder tensor 'gradients/split_grad/concat/split/split_dim' with dtype int32\n",
      "\t [[{{node gradients/split_grad/concat/split/split_dim}}]]\n",
      "2023-06-20 23:31:28.272514: I tensorflow/core/common_runtime/executor.cc:1197] [/device:CPU:0] (DEBUG INFO) Executor start aborting (this does not indicate an error and you can ignore this message): INVALID_ARGUMENT: You must feed a value for placeholder tensor 'gradients/split_1_grad/concat/split_1/split_dim' with dtype int32\n",
      "\t [[{{node gradients/split_1_grad/concat/split_1/split_dim}}]]\n"
     ]
    }
   ],
   "source": [
    "# построение модели\n",
    "from keras.models import Sequential\n",
    "from keras.layers import Flatten, Dense, Embedding\n",
    "from keras.layers import SimpleRNN, Reshape\n",
    "from keras import layers\n",
    "from keras.layers import LSTM\n",
    "\n",
    "model = Sequential()\n",
    "\n",
    "model.add(layers.Dense(64, activation='relu', input_shape=(5000,)))\n",
    "model.add(Reshape((1, 64)))\n",
    "model.add(LSTM(64))\n",
    "model.add(Dense(64, activation='relu'))\n",
    "# Dropout - дает возможно забывать сетью часть своих нейронов\n",
    "model.add(layers.Dropout(0.1))\n",
    "model.add(Dense(64, activation='relu'))\n",
    "model.add(Dense(3, activation='sigmoid'))\n",
    "model.summary()"
   ]
  },
  {
   "cell_type": "code",
   "execution_count": 77,
   "id": "b7f1e566",
   "metadata": {},
   "outputs": [],
   "source": [
    "# 2. компиляция сети\n",
    "# теперь нужно скомпелировать нашу сеть\n",
    "# optimizer='rmsprop' - алгоритм обучения сети\n",
    "# loss='categorical_crossentropy'\n",
    "# metrics=['accuracy'] - тип метрики качества\n",
    "# loss='categorical_crossentropy' - функция потерь, которая будет минимизироваться\n",
    "model.compile(optimizer='rmsprop', loss='categorical_crossentropy', metrics=['accuracy'])"
   ]
  },
  {
   "cell_type": "code",
   "execution_count": 78,
   "id": "12c9a59e",
   "metadata": {},
   "outputs": [
    {
     "name": "stdout",
     "output_type": "stream",
     "text": [
      "Epoch 1/20\n",
      "8/8 [==============================] - 1s 23ms/step - loss: 0.9327 - accuracy: 0.6503 - val_loss: 0.7277 - val_accuracy: 0.7525\n",
      "Epoch 2/20\n",
      "8/8 [==============================] - 0s 9ms/step - loss: 0.6708 - accuracy: 0.7520 - val_loss: 0.6357 - val_accuracy: 0.7525\n",
      "Epoch 3/20\n",
      "8/8 [==============================] - 0s 9ms/step - loss: 0.5788 - accuracy: 0.7545 - val_loss: 0.5774 - val_accuracy: 0.7640\n",
      "Epoch 4/20\n",
      "8/8 [==============================] - 0s 9ms/step - loss: 0.5026 - accuracy: 0.7765 - val_loss: 0.5349 - val_accuracy: 0.8022\n",
      "Epoch 5/20\n",
      "8/8 [==============================] - 0s 10ms/step - loss: 0.4357 - accuracy: 0.8309 - val_loss: 0.5086 - val_accuracy: 0.8282\n",
      "Epoch 6/20\n",
      "8/8 [==============================] - 0s 9ms/step - loss: 0.3683 - accuracy: 0.8718 - val_loss: 0.4980 - val_accuracy: 0.8276\n",
      "Epoch 7/20\n",
      "8/8 [==============================] - 0s 8ms/step - loss: 0.3208 - accuracy: 0.8854 - val_loss: 0.5054 - val_accuracy: 0.8178\n",
      "Epoch 8/20\n",
      "8/8 [==============================] - 0s 8ms/step - loss: 0.2799 - accuracy: 0.8929 - val_loss: 0.5226 - val_accuracy: 0.8276\n",
      "Epoch 9/20\n",
      "8/8 [==============================] - 0s 9ms/step - loss: 0.2515 - accuracy: 0.9010 - val_loss: 0.5303 - val_accuracy: 0.8288\n",
      "Epoch 10/20\n",
      "8/8 [==============================] - 0s 8ms/step - loss: 0.2328 - accuracy: 0.9058 - val_loss: 0.5594 - val_accuracy: 0.8253\n",
      "Epoch 11/20\n",
      "8/8 [==============================] - 0s 8ms/step - loss: 0.2223 - accuracy: 0.9058 - val_loss: 0.5747 - val_accuracy: 0.8230\n",
      "Epoch 12/20\n",
      "8/8 [==============================] - 0s 8ms/step - loss: 0.2063 - accuracy: 0.9087 - val_loss: 0.5906 - val_accuracy: 0.8155\n",
      "Epoch 13/20\n",
      "8/8 [==============================] - 0s 8ms/step - loss: 0.2000 - accuracy: 0.9087 - val_loss: 0.6274 - val_accuracy: 0.8253\n",
      "Epoch 14/20\n",
      "8/8 [==============================] - 0s 9ms/step - loss: 0.1969 - accuracy: 0.9097 - val_loss: 0.6326 - val_accuracy: 0.8282\n",
      "Epoch 15/20\n",
      "8/8 [==============================] - 0s 9ms/step - loss: 0.1850 - accuracy: 0.9122 - val_loss: 0.6479 - val_accuracy: 0.8259\n",
      "Epoch 16/20\n",
      "8/8 [==============================] - 0s 8ms/step - loss: 0.1815 - accuracy: 0.9159 - val_loss: 0.6594 - val_accuracy: 0.8242\n",
      "Epoch 17/20\n",
      "8/8 [==============================] - 0s 8ms/step - loss: 0.1746 - accuracy: 0.9162 - val_loss: 0.6658 - val_accuracy: 0.8288\n",
      "Epoch 18/20\n",
      "8/8 [==============================] - 0s 7ms/step - loss: 0.1690 - accuracy: 0.9187 - val_loss: 0.6733 - val_accuracy: 0.8265\n",
      "Epoch 19/20\n",
      "8/8 [==============================] - 0s 8ms/step - loss: 0.1703 - accuracy: 0.9219 - val_loss: 0.6831 - val_accuracy: 0.8051\n",
      "Epoch 20/20\n",
      "8/8 [==============================] - 0s 8ms/step - loss: 0.1716 - accuracy: 0.9189 - val_loss: 0.6955 - val_accuracy: 0.8276\n"
     ]
    },
    {
     "data": {
      "text/plain": [
       "<keras.callbacks.History at 0x7f42d45c14e0>"
      ]
     },
     "execution_count": 78,
     "metadata": {},
     "output_type": "execute_result"
    }
   ],
   "source": [
    "# 3. обучение сети\n",
    "# запускаем процесс обучения сети\n",
    "# x_train, y_train - датасет на котором обучаем сеть\n",
    "# epochs=9 - число эпох обучения\n",
    "# batch_size=512\n",
    "# validation_data - датасет на котором производится проверка качества обученной модели\n",
    "model.fit(x_train, y_dummy_train, epochs=20, batch_size=512, validation_data=(x_valid, y_dummy_valid))"
   ]
  },
  {
   "cell_type": "code",
   "execution_count": 79,
   "id": "368a6a62",
   "metadata": {},
   "outputs": [
    {
     "name": "stdout",
     "output_type": "stream",
     "text": [
      "55/55 [==============================] - 0s 598us/step - loss: 0.6955 - accuracy: 0.8276\n"
     ]
    }
   ],
   "source": [
    "# выводим качество работы сети\n",
    "results = model.evaluate(x_valid, y_dummy_valid)"
   ]
  },
  {
   "cell_type": "code",
   "execution_count": 80,
   "id": "8ac65bfc",
   "metadata": {},
   "outputs": [
    {
     "name": "stdout",
     "output_type": "stream",
     "text": [
      "[0.6954954862594604, 0.827646017074585]\n"
     ]
    }
   ],
   "source": [
    "print(results)"
   ]
  },
  {
   "cell_type": "code",
   "execution_count": 81,
   "id": "aca6bfbe",
   "metadata": {},
   "outputs": [
    {
     "name": "stdout",
     "output_type": "stream",
     "text": [
      "55/55 [==============================] - 0s 507us/step\n",
      "(1729, 3)\n",
      "[[2.2437966e-03 3.3457372e-01 6.6318256e-01]\n",
      " [2.3532030e-01 2.4980113e-02 7.3969954e-01]\n",
      " [3.6364573e-04 9.0792912e-01 9.1707341e-02]\n",
      " ...\n",
      " [1.4522616e-03 3.6547816e-01 6.3306963e-01]\n",
      " [1.2234662e-07 9.9999696e-01 2.9035159e-06]\n",
      " [1.8026656e-03 9.5034456e-01 4.7852714e-02]]\n"
     ]
    }
   ],
   "source": [
    "# Предсказание\n",
    "predictions = model.predict(x_valid)\n",
    "#  число оценок и размер оценок в предсказании\n",
    "print(predictions.shape)\n",
    "print(predictions)"
   ]
  },
  {
   "cell_type": "code",
   "execution_count": 82,
   "id": "268238e2",
   "metadata": {},
   "outputs": [],
   "source": [
    "# Давайте оценим результат предсказания по классам - 2 класса\n",
    "# Для этого преобразуем полученные вероятности по классам в конкретный класс\n",
    "# то есть в качестве итогового класса берется класс с максимальной вероятностью\n",
    "y_preds = np.argmax(predictions, axis=1).tolist()\n",
    "\n",
    "for i in range(len(y_preds)):\n",
    "    if y_preds[i]==0: y_preds[i]='irrel'\n",
    "    if y_preds[i]==1: y_preds[i]='no'\n",
    "    if y_preds[i]==2: y_preds[i]='yes'\n",
    "        "
   ]
  },
  {
   "cell_type": "code",
   "execution_count": 83,
   "id": "7a6157ac",
   "metadata": {},
   "outputs": [],
   "source": [
    "# Давайте оценим результат предсказания по классам\n",
    "# Для этого преобразуем полученные вероятности по классам в конкретный класс\n",
    "# то есть в качестве итогового класса берется класс с максимальной вероятностью\n",
    "#y_preds = np.argmax(predictions, axis=1).tolist()\n",
    "# 2- positive\n",
    "# 1- neutral\n",
    "# 0- negative\n",
    "#for i in range(len(y_preds)):\n",
    "#    if y_preds[i]==2: y_preds[i]='low'\n",
    "#    if y_preds[i]==1: y_preds[i]='irrel'\n",
    "#    if y_preds[i]==0: y_preds[i]='high'"
   ]
  },
  {
   "cell_type": "code",
   "execution_count": 84,
   "id": "8029fd73",
   "metadata": {},
   "outputs": [],
   "source": [
    "# получили предсказание в терминах классов\n",
    "#y_preds"
   ]
  },
  {
   "cell_type": "code",
   "execution_count": 85,
   "id": "576ae1d6",
   "metadata": {},
   "outputs": [],
   "source": [
    "# также сделаем обратное преобразование лейблов из тестового датасета обратно в классы\n",
    "yy = y_dummy_valid.idxmax(axis=1)"
   ]
  },
  {
   "cell_type": "code",
   "execution_count": 86,
   "id": "9ac62cee",
   "metadata": {},
   "outputs": [],
   "source": [
    "#yy"
   ]
  },
  {
   "cell_type": "code",
   "execution_count": 87,
   "id": "d55ca407",
   "metadata": {},
   "outputs": [
    {
     "name": "stdout",
     "output_type": "stream",
     "text": [
      "              precision    recall  f1-score   support\n",
      "\n",
      "       irrel       0.47      0.57      0.51       136\n",
      "          no       0.92      0.89      0.90      1349\n",
      "         yes       0.60      0.64      0.62       244\n",
      "\n",
      "    accuracy                           0.83      1729\n",
      "   macro avg       0.66      0.70      0.68      1729\n",
      "weighted avg       0.84      0.83      0.83      1729\n",
      "\n"
     ]
    }
   ],
   "source": [
    "#  Теперь мы можем расчитать качество по каждому классу\n",
    "from sklearn import metrics\n",
    "from sklearn.metrics import classification_report\n",
    "print(metrics.classification_report(y_preds, yy))"
   ]
  },
  {
   "cell_type": "code",
   "execution_count": null,
   "id": "eef67710",
   "metadata": {},
   "outputs": [],
   "source": []
  },
  {
   "cell_type": "code",
   "execution_count": null,
   "id": "5ba77e8b",
   "metadata": {},
   "outputs": [],
   "source": []
  }
 ],
 "metadata": {
  "kernelspec": {
   "display_name": "Python 3 (ipykernel)",
   "language": "python",
   "name": "python3"
  },
  "language_info": {
   "codemirror_mode": {
    "name": "ipython",
    "version": 3
   },
   "file_extension": ".py",
   "mimetype": "text/x-python",
   "name": "python",
   "nbconvert_exporter": "python",
   "pygments_lexer": "ipython3",
   "version": "3.10.8"
  }
 },
 "nbformat": 4,
 "nbformat_minor": 5
}
